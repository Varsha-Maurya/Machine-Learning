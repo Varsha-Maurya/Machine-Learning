{
 "cells": [
  {
   "cell_type": "markdown",
   "metadata": {},
   "source": [
    "# Assignment #5 - Deep Learning\n"
   ]
  },
  {
   "cell_type": "markdown",
   "metadata": {},
   "source": [
    "## Varsha Maurya"
   ]
  },
  {
   "cell_type": "markdown",
   "metadata": {},
   "source": [
    "# I. Overview\n",
    "\n",
    "In this assignment we are going to implement deep network like Feed Forward(FF), Deep Feed Forward(DFF) and Recurrent Neural Network(RNN). Implementation of these networks will be done on different suitable datasets. We will also examine the accuracy obtained by each implemention and understand difference between the networks. The goal of this assignment is to successfully implement Feed Forward(FF), Deep Feed Forward(DFF) and Recurrent Neural Network(RNN) on dataset so as to find the respective accuracies. In addition to this, we have also implemented LSTM on Air Quality dataset."
   ]
  },
  {
   "cell_type": "markdown",
   "metadata": {},
   "source": [
    "# II. Data\n",
    "\n",
    "The data being used for Feed Forward Neural network(FF) and Deep Feed Forward Neural Network(DFF) consists of handwritten numbers ranging from 0 to 9, along with their ground truth. It has 60,000 train samples and 10,000 test samples. Each sample is a 28×28 grayscale image."
   ]
  },
  {
   "cell_type": "markdown",
   "metadata": {},
   "source": [
    "### Pre-processing, plots, understanding and observation of the data"
   ]
  },
  {
   "cell_type": "code",
   "execution_count": 108,
   "metadata": {},
   "outputs": [],
   "source": [
    "import pandas as pd\n",
    "import numpy as np\n",
    "import tensorflow as tf\n",
    "import os\n",
    "\n",
    "# to make this notebook's output stable across runs\n",
    "def reset_graph(seed=42):\n",
    "    tf.reset_default_graph()\n",
    "    tf.set_random_seed(seed)\n",
    "    np.random.seed(seed)\n",
    "\n",
    "# To plot pretty figures\n",
    "%matplotlib inline\n",
    "import matplotlib\n",
    "import matplotlib.pyplot as plt\n",
    "plt.rcParams['axes.labelsize'] = 14\n",
    "plt.rcParams['xtick.labelsize'] = 12\n",
    "plt.rcParams['ytick.labelsize'] = 12\n",
    "\n",
    "import IPython.display as ipd  # for display and clear_output"
   ]
  },
  {
   "cell_type": "code",
   "execution_count": 109,
   "metadata": {},
   "outputs": [],
   "source": [
    "from keras.datasets import mnist\n",
    "(train_images, train_labels), (test_images, test_labels) = mnist.load_data()"
   ]
  },
  {
   "cell_type": "code",
   "execution_count": 110,
   "metadata": {},
   "outputs": [
    {
     "name": "stdout",
     "output_type": "stream",
     "text": [
      "Total number of outputs :  10\n",
      "Output classes :  [0 1 2 3 4 5 6 7 8 9]\n"
     ]
    }
   ],
   "source": [
    "from keras.utils import to_categorical\n",
    "\n",
    "# Find the unique numbers from the train labels\n",
    "classes = np.unique(train_labels)\n",
    "nClasses = len(classes)\n",
    "print('Total number of outputs : ', nClasses)\n",
    "print('Output classes : ', classes)\n"
   ]
  },
  {
   "cell_type": "code",
   "execution_count": 111,
   "metadata": {},
   "outputs": [
    {
     "data": {
      "text/plain": [
       "Text(0.5, 1.0, 'Ground Truth : 7')"
      ]
     },
     "execution_count": 111,
     "metadata": {},
     "output_type": "execute_result"
    },
    {
     "data": {
      "image/png": "[encoded data removed]",
      "text/plain": [
       "<Figure size 720x360 with 2 Axes>"
      ]
     },
     "metadata": {
      "needs_background": "light"
     },
     "output_type": "display_data"
    }
   ],
   "source": [
    "plt.figure(figsize=[10,5])\n",
    " \n",
    "# Display the first image in training data\n",
    "plt.subplot(121)\n",
    "plt.imshow(train_images[0,:,:], cmap='gray')\n",
    "plt.title(\"Ground Truth : {}\".format(train_labels[0]))\n",
    " \n",
    "# Display the first image in testing data\n",
    "plt.subplot(122)\n",
    "plt.imshow(test_images[0,:,:], cmap='gray')\n",
    "plt.title(\"Ground Truth : {}\".format(test_labels[0]))"
   ]
  },
  {
   "cell_type": "markdown",
   "metadata": {},
   "source": [
    "The images are grayscale and the pixel values range from 0 to 255. We will apply the following preprocessing to the data before feeding it to the network.\n",
    "\n",
    "- Convert each image matrix ( 28×28 ) to an array ( 28*28 = 784 dimenstional ) which will be fed to the network as a single feature.\n",
    "- Convert the data to float and scale the values between 0 to 1.\n",
    "- Convert the labels from integer to categorical ( one-hot ) encoding since that is the format required by Keras to perform multiclass classification. One-hot encoding is a type of boolean representation of integer data. It converts the integer to an array of all zeros except a 1 at the index of the integer."
   ]
  },
  {
   "cell_type": "code",
   "execution_count": 112,
   "metadata": {},
   "outputs": [
    {
     "name": "stdout",
     "output_type": "stream",
     "text": [
      "Original label 0 :  5\n",
      "After conversion to categorical ( one-hot ) :  [0. 0. 0. 0. 0. 1. 0. 0. 0. 0.]\n"
     ]
    }
   ],
   "source": [
    "# Change from matrix to array of dimension 28x28 to array of dimention 784\n",
    "dimData = np.prod(train_images.shape[1:])\n",
    "train_data = train_images.reshape(train_images.shape[0], dimData)\n",
    "test_data = test_images.reshape(test_images.shape[0], dimData)\n",
    "\n",
    "# Change to float datatype\n",
    "train_data = train_data.astype('float32')\n",
    "test_data = test_data.astype('float32')\n",
    " \n",
    "# Scale the data to lie between 0 to 1\n",
    "train_data /= 255\n",
    "test_data /= 255\n",
    "\n",
    "# Change the labels from integer to categorical data\n",
    "train_labels_one_hot = to_categorical(train_labels)\n",
    "test_labels_one_hot = to_categorical(test_labels)\n",
    " \n",
    "# Display the change for category label using one-hot encoding\n",
    "print('Original label 0 : ', train_labels[0])\n",
    "print('After conversion to categorical ( one-hot ) : ', train_labels_one_hot[0])"
   ]
  },
  {
   "cell_type": "markdown",
   "metadata": {},
   "source": [
    "On observation, we can clearly see that images in data set are not uniform and vary in quality and clarity. Prediction of such images would not be so accurate using a linear model."
   ]
  },
  {
   "cell_type": "markdown",
   "metadata": {},
   "source": [
    "# III. Methods"
   ]
  },
  {
   "cell_type": "markdown",
   "metadata": {},
   "source": [
    "### 1. Feed Forward network(FF)\n",
    "\n",
    "In Feedforward, information only travels forward in the neural network, through the input nodes then through the hidden layers (single or many layers) and finally through the output nodes. In MLN there are no feedback connections such that the output of the network is fed back into itself. These networks are represented by a combination of many simpler models(sigmoid neurons).\n",
    "\n",
    "<img src=\"https://www.learnopencv.com/wp-content/uploads/2017/10/mlp-diagram.jpg\" width=500/>\n",
    "\n",
    "\n",
    "Feed-forward networks have the following characteristics:\n",
    "- Perceptrons are arranged in layers, with the first layer taking in inputs and the last layer producing outputs. The middle layers have no connection with the external world, and hence are called hidden layers.\n",
    "- Each perceptron in one layer is connected to every perceptron on the next layer. Hence information is constantly \"fed forward\" from one layer to the next., and this explains why these networks are called feed-forward networks.\n",
    "- There is no connection among perceptrons in the same layer."
   ]
  },
  {
   "cell_type": "markdown",
   "metadata": {},
   "source": [
    "### 2. Deep Feed Forward(DFF)\n",
    "\n",
    "Deep feedforward networks, or multilayer perceptrons(MLPs), are the quintessential deep learning models. The goal of a feedforward network is to approximate some function $f∗$. \n",
    "For example,for a classiﬁer, $y=f∗(x)$ maps an input x to a category y. \n",
    "\n",
    "A feedforward network deﬁnes a mapping $y=f(x;θ)$ and learns the value of the parameters $θ$ that result in the best function approximation.\n",
    "\n",
    "Deep Feedforward neural network model is associated with a directed acyclic graph describing how the functions are composed together. \n",
    "For example, we might have three functions $f(1)$, $f(2)$, and $f(3)$ connectedin a chain, to form $f(x) =f(3)(f(2)(f(1)(x)))$.\n",
    "These chain structures are the most commonly used structures of neural networks. \n",
    "In this case, $f(1)$ is called the ﬁrst layer of the network, $f(2)$ is called the second layer, and so on. The overall length of the chain gives the depthof the model. The ﬁnal layer of a feedforward network is called the output layer. \n",
    "During neural network training, we drive $f(x)$ to match $f∗(x).$ The training data provides us with noisy, approximate examples of $f ∗(x)$ evaluated at diﬀerent training points. \n",
    "Each example $x$ is accompanied by a label $y ≈ f∗(x).$ The training examples specify directly what the output layer must do at each point x; it must produce a value that is close to y. \n",
    "The behavior of the other layers is not directly speciﬁed by the training data. The learning algorithm must decide how to use those layers to produce the desired output, but the training data do not say what each individual layer should do. Instead, the learning algorithm must decide how to use these layers to best implement an approximation of $f∗$.\n",
    "\n",
    "**Difference between Feed Forward and Deep Feed Forward neural network?**\n",
    "\n",
    "Characteristics of Feedforward networks:\n",
    "- All nodes are fully connected\n",
    "- Activation flows from input layer to output, without back loops\n",
    "- There is one layer between input and output (hidden layer). In most cases this type of networks is trained using Backpropagation method.\n",
    "\n",
    "![FF](img/FF.png)\n",
    "\n",
    "Deep Feed Forward Neural Networks are just Feed Forward NN with more than one hidden layer. Need of DFF arised because when training a traditional FF, we pass only a small amount of error to previous layer. Because of that stacking more layers led to exponential growth of training times, making DFFs quite impractical. New approaches were developed that allowed to train DFFs effectively and now they form a core of modern Machine Learning systems, covering the same purposes as FFs, but with much better results.\n",
    "\n",
    "![DFF](img/DFF.png)\n",
    "\n"
   ]
  },
  {
   "cell_type": "markdown",
   "metadata": {},
   "source": [
    "### 3. Recurrent Neural Network(RNN)\n",
    "\n",
    "Recuurent Neural Networks make use of sequential information. If you want to predict the next word in a sentence you better know which words came before it. RNNs are called recurrent because they perform the same task for every element of a sequence, with the output being depended on the previous computations. Another way to think about RNNs is that they have a “memory” which captures information about what has been calculated so far\n",
    "\n",
    "The RNN can be modeled as recursive connection on each neuron or on entire layer in the following figures.\n",
    "\n",
    "Single Recurrent Neuron\n",
    "$$y_{(t)} = h( W_x^T x_{(t)} + W_y^T y_{(t-1)} + b)$$\n",
    "\n",
    "\n",
    "Let us generalize the notation here for convenience. The layer of a neural network here can be defined a function $f$.The output $y_{(2)}$ is obtained:\n",
    "$$\n",
    "  y_{(2)} = f_w(y_{(1)}, x_{(2)})\n",
    "$$  \n",
    "where $w$ is the neural network weights. \n",
    "\n",
    "If we unfold the equation, \n",
    "\n",
    "\n",
    "$$/y_{(2)} = f_w(y_{(1)}, x_{(2)} )$$\n",
    "$$= f_w(f_w(y_{(0)}, x_{(1)}), x_{(2)} ) = g( x_{(1)}, x_{(2)})$$\n",
    "$$= f_w(f_w(x_{(0)}), x_{(2)} ) = g( x_{(0)}, x_{(1)}, x_{(2)}).$$\n",
    "\n",
    "\n",
    "In general, \n",
    "$$\n",
    "  y_{(t)} = f_w(y_{(t-1)}, x_{(t)} ). \n",
    "$$\n",
    "\n",
    "- RNNs are suitable for dealing with sequential format data since they have \"recurrent\" structure\n",
    "- To put it differently, they keep the \"memory\" of earlier inputs in the sequence\n",
    "\n",
    "<img src= \"http://www.wildml.com/wp-content/uploads/2015/09/rnn.jpg\" width=500/>\n",
    "\n",
    " In the above figure $x_t$ is the input at time step t. \n",
    "For example, $x_1$ could be a one-hot vector corresponding to the second word of a sentence.\n",
    "- $s_t$ is the hidden state at time step t. It’s the “memory” of the network. $s_t$ is calculated based on the previous hidden state and the input at the current step: $$s_t=f(Ux_t + Ws_{t-1}).$$ The function f usually is a nonlinearity such as tanh or ReLU.  $s_{-1}$, which is required to calculate the first hidden state, is typically initialized to all zeroes.\n",
    "- $o_t$ is the output at step t. For example, if we wanted to predict the next word in a sentence it would be a vector of probabilities across our vocabulary. \n",
    "$$o_t = \\mathrm{softmax}(Vs_t).$$"
   ]
  },
  {
   "cell_type": "markdown",
   "metadata": {},
   "source": [
    "### Implementation of Feed Forward network"
   ]
  },
  {
   "cell_type": "code",
   "execution_count": 113,
   "metadata": {},
   "outputs": [],
   "source": [
    "from keras.models import Sequential\n",
    "from keras.layers import Dense\n",
    " \n",
    "model = Sequential()\n",
    "model.add(Dense(512, activation='relu', input_shape=(dimData,)))\n",
    "model.add(Dense(nClasses, activation='softmax'))\n",
    "model.compile(optimizer='rmsprop', loss='categorical_crossentropy', metrics=['accuracy'])"
   ]
  },
  {
   "cell_type": "code",
   "execution_count": 114,
   "metadata": {
    "scrolled": true
   },
   "outputs": [
    {
     "name": "stdout",
     "output_type": "stream",
     "text": [
      "Train on 60000 samples, validate on 10000 samples\n",
      "Epoch 1/20\n",
      "60000/60000 [==============================] - 2s 39us/step - loss: 0.3104 - acc: 0.9110 - val_loss: 0.1660 - val_acc: 0.9522\n",
      "Epoch 2/20\n",
      "60000/60000 [==============================] - 1s 24us/step - loss: 0.1303 - acc: 0.9619 - val_loss: 0.1129 - val_acc: 0.9654\n",
      "Epoch 3/20\n",
      "60000/60000 [==============================] - 1s 24us/step - loss: 0.0860 - acc: 0.9742 - val_loss: 0.0884 - val_acc: 0.9730\n",
      "Epoch 4/20\n",
      "60000/60000 [==============================] - 1s 24us/step - loss: 0.0623 - acc: 0.9817 - val_loss: 0.0814 - val_acc: 0.9758\n",
      "Epoch 5/20\n",
      "60000/60000 [==============================] - 1s 24us/step - loss: 0.0476 - acc: 0.9862 - val_loss: 0.0726 - val_acc: 0.9780\n",
      "Epoch 6/20\n",
      "60000/60000 [==============================] - 1s 25us/step - loss: 0.0370 - acc: 0.9894 - val_loss: 0.0751 - val_acc: 0.9774\n",
      "Epoch 7/20\n",
      "60000/60000 [==============================] - 1s 25us/step - loss: 0.0287 - acc: 0.9918 - val_loss: 0.0797 - val_acc: 0.9741\n",
      "Epoch 8/20\n",
      "60000/60000 [==============================] - 1s 25us/step - loss: 0.0228 - acc: 0.9938 - val_loss: 0.0713 - val_acc: 0.9786\n",
      "Epoch 9/20\n",
      "60000/60000 [==============================] - 1s 25us/step - loss: 0.0179 - acc: 0.9950 - val_loss: 0.0690 - val_acc: 0.9809\n",
      "Epoch 10/20\n",
      "60000/60000 [==============================] - 1s 25us/step - loss: 0.0138 - acc: 0.9962 - val_loss: 0.0644 - val_acc: 0.9810\n",
      "Epoch 11/20\n",
      "60000/60000 [==============================] - 1s 25us/step - loss: 0.0107 - acc: 0.9974 - val_loss: 0.0640 - val_acc: 0.9828\n",
      "Epoch 12/20\n",
      "60000/60000 [==============================] - 1s 25us/step - loss: 0.0089 - acc: 0.9980 - val_loss: 0.0612 - val_acc: 0.9837\n",
      "Epoch 13/20\n",
      "60000/60000 [==============================] - 2s 26us/step - loss: 0.0070 - acc: 0.9984 - val_loss: 0.0660 - val_acc: 0.9831\n",
      "Epoch 14/20\n",
      "60000/60000 [==============================] - 2s 26us/step - loss: 0.0053 - acc: 0.9989 - val_loss: 0.0696 - val_acc: 0.9827\n",
      "Epoch 15/20\n",
      "60000/60000 [==============================] - 2s 27us/step - loss: 0.0043 - acc: 0.9991 - val_loss: 0.0696 - val_acc: 0.9828\n",
      "Epoch 16/20\n",
      "60000/60000 [==============================] - 2s 27us/step - loss: 0.0033 - acc: 0.9993 - val_loss: 0.0689 - val_acc: 0.9822\n",
      "Epoch 17/20\n",
      "60000/60000 [==============================] - 2s 27us/step - loss: 0.0027 - acc: 0.9995 - val_loss: 0.0758 - val_acc: 0.9816\n",
      "Epoch 18/20\n",
      "60000/60000 [==============================] - 2s 27us/step - loss: 0.0023 - acc: 0.9996 - val_loss: 0.0788 - val_acc: 0.9826\n",
      "Epoch 19/20\n",
      "60000/60000 [==============================] - 2s 27us/step - loss: 0.0019 - acc: 0.9997 - val_loss: 0.0763 - val_acc: 0.9831\n",
      "Epoch 20/20\n",
      "60000/60000 [==============================] - 2s 27us/step - loss: 0.0014 - acc: 0.9998 - val_loss: 0.0845 - val_acc: 0.9820\n"
     ]
    }
   ],
   "source": [
    "history = model.fit(train_data, train_labels_one_hot, batch_size=256, epochs=20, verbose=1, \n",
    "                   validation_data=(test_data, test_labels_one_hot))"
   ]
  },
  {
   "cell_type": "code",
   "execution_count": 115,
   "metadata": {},
   "outputs": [
    {
     "name": "stdout",
     "output_type": "stream",
     "text": [
      "10000/10000 [==============================] - 0s 31us/step\n",
      "Evaluation result on Test Data : Loss = 0.08449126068302121, accuracy = 0.982\n"
     ]
    }
   ],
   "source": [
    "[test_loss, test_acc] = model.evaluate(test_data, test_labels_one_hot)\n",
    "print(\"Evaluation result on Test Data : Loss = {}, accuracy = {}\".format(test_loss, test_acc))"
   ]
  },
  {
   "cell_type": "code",
   "execution_count": 116,
   "metadata": {},
   "outputs": [
    {
     "data": {
      "text/plain": [
       "Text(0.5, 1.0, 'Loss Curves')"
      ]
     },
     "execution_count": 116,
     "metadata": {},
     "output_type": "execute_result"
    },
    {
     "data": {
      "image/png": "[encoded data removed]",
      "text/plain": [
       "<Figure size 576x432 with 1 Axes>"
      ]
     },
     "metadata": {
      "needs_background": "light"
     },
     "output_type": "display_data"
    }
   ],
   "source": [
    "#Plot the Loss Curves\n",
    "plt.figure(figsize=[8,6])\n",
    "plt.plot(history.history['loss'],'r',linewidth=3.0)\n",
    "plt.plot(history.history['val_loss'],'b',linewidth=3.0)\n",
    "plt.legend(['Training loss', 'Validation Loss'],fontsize=18)\n",
    "plt.xlabel('Epochs ',fontsize=16)\n",
    "plt.ylabel('Loss',fontsize=16)\n",
    "plt.title('Loss Curves',fontsize=16)"
   ]
  },
  {
   "cell_type": "code",
   "execution_count": 117,
   "metadata": {},
   "outputs": [
    {
     "data": {
      "text/plain": [
       "Text(0.5, 1.0, 'Accuracy Curves')"
      ]
     },
     "execution_count": 117,
     "metadata": {},
     "output_type": "execute_result"
    },
    {
     "data": {
      "image/png": "[encoded data removed]",
      "text/plain": [
       "<Figure size 576x432 with 1 Axes>"
      ]
     },
     "metadata": {
      "needs_background": "light"
     },
     "output_type": "display_data"
    }
   ],
   "source": [
    "#Plot the Accuracy Curves\n",
    "plt.figure(figsize=[8,6])\n",
    "plt.plot(history.history['acc'],'r',linewidth=3.0)\n",
    "plt.plot(history.history['val_acc'],'b',linewidth=3.0)\n",
    "plt.legend(['Training Accuracy', 'Validation Accuracy'],fontsize=18)\n",
    "plt.xlabel('Epochs ',fontsize=16)\n",
    "plt.ylabel('Accuracy',fontsize=16)\n",
    "plt.title('Accuracy Curves',fontsize=16)"
   ]
  },
  {
   "cell_type": "code",
   "execution_count": 118,
   "metadata": {},
   "outputs": [],
   "source": [
    "from keras.layers import Dropout\n",
    " \n",
    "model_reg = Sequential()\n",
    "model_reg.add(Dense(512, activation='relu', input_shape=(dimData,)))\n",
    "model_reg.add(Dropout(0.5))\n",
    "model_reg.add(Dense(512, activation='relu'))\n",
    "model_reg.add(Dropout(0.5))\n",
    "model_reg.add(Dense(nClasses, activation='softmax'))"
   ]
  },
  {
   "cell_type": "code",
   "execution_count": 119,
   "metadata": {},
   "outputs": [
    {
     "name": "stdout",
     "output_type": "stream",
     "text": [
      "Train on 60000 samples, validate on 10000 samples\n",
      "Epoch 1/20\n",
      "60000/60000 [==============================] - 4s 63us/step - loss: 0.3764 - acc: 0.8839 - val_loss: 0.1433 - val_acc: 0.9557\n",
      "Epoch 2/20\n",
      "60000/60000 [==============================] - 3s 48us/step - loss: 0.1701 - acc: 0.9493 - val_loss: 0.1124 - val_acc: 0.9631\n",
      "Epoch 3/20\n",
      "60000/60000 [==============================] - 3s 51us/step - loss: 0.1282 - acc: 0.9617 - val_loss: 0.0940 - val_acc: 0.9715\n",
      "Epoch 4/20\n",
      "60000/60000 [==============================] - 3s 48us/step - loss: 0.1113 - acc: 0.9664 - val_loss: 0.0831 - val_acc: 0.9749\n",
      "Epoch 5/20\n",
      "60000/60000 [==============================] - 3s 48us/step - loss: 0.0988 - acc: 0.9712 - val_loss: 0.0819 - val_acc: 0.9773\n",
      "Epoch 6/20\n",
      "60000/60000 [==============================] - 3s 53us/step - loss: 0.0880 - acc: 0.9733 - val_loss: 0.0754 - val_acc: 0.9782\n",
      "Epoch 7/20\n",
      "60000/60000 [==============================] - 3s 48us/step - loss: 0.0778 - acc: 0.9765 - val_loss: 0.0758 - val_acc: 0.9805\n",
      "Epoch 8/20\n",
      "60000/60000 [==============================] - 3s 51us/step - loss: 0.0752 - acc: 0.9777 - val_loss: 0.0757 - val_acc: 0.9793\n",
      "Epoch 9/20\n",
      "60000/60000 [==============================] - 3s 55us/step - loss: 0.0705 - acc: 0.9793 - val_loss: 0.0825 - val_acc: 0.9790\n",
      "Epoch 10/20\n",
      "60000/60000 [==============================] - 3s 54us/step - loss: 0.0675 - acc: 0.9804 - val_loss: 0.0723 - val_acc: 0.9815\n",
      "Epoch 11/20\n",
      "60000/60000 [==============================] - 3s 56us/step - loss: 0.0641 - acc: 0.9814 - val_loss: 0.0737 - val_acc: 0.9819\n",
      "Epoch 12/20\n",
      "60000/60000 [==============================] - 3s 57us/step - loss: 0.0611 - acc: 0.9813 - val_loss: 0.0835 - val_acc: 0.9805\n",
      "Epoch 13/20\n",
      "60000/60000 [==============================] - 3s 54us/step - loss: 0.0592 - acc: 0.9830 - val_loss: 0.0748 - val_acc: 0.9827\n",
      "Epoch 14/20\n",
      "60000/60000 [==============================] - 3s 51us/step - loss: 0.0591 - acc: 0.9834 - val_loss: 0.0744 - val_acc: 0.9822\n",
      "Epoch 15/20\n",
      "60000/60000 [==============================] - 3s 54us/step - loss: 0.0572 - acc: 0.9841 - val_loss: 0.0771 - val_acc: 0.9826\n",
      "Epoch 16/20\n",
      "60000/60000 [==============================] - 3s 57us/step - loss: 0.0538 - acc: 0.9854 - val_loss: 0.0773 - val_acc: 0.9816\n",
      "Epoch 17/20\n",
      "60000/60000 [==============================] - 3s 55us/step - loss: 0.0512 - acc: 0.9847 - val_loss: 0.0870 - val_acc: 0.9818\n",
      "Epoch 18/20\n",
      "60000/60000 [==============================] - 3s 51us/step - loss: 0.0522 - acc: 0.9848 - val_loss: 0.0816 - val_acc: 0.9826\n",
      "Epoch 19/20\n",
      "60000/60000 [==============================] - 3s 50us/step - loss: 0.0491 - acc: 0.9861 - val_loss: 0.0812 - val_acc: 0.9828\n",
      "Epoch 20/20\n",
      "60000/60000 [==============================] - 3s 51us/step - loss: 0.0492 - acc: 0.9863 - val_loss: 0.0908 - val_acc: 0.9813\n"
     ]
    }
   ],
   "source": [
    "model_reg.compile(optimizer='rmsprop', loss='categorical_crossentropy', metrics=['accuracy'])\n",
    "history_reg = model_reg.fit(train_data, train_labels_one_hot, batch_size=256, epochs=20, verbose=1, \n",
    "                            validation_data=(test_data, test_labels_one_hot))"
   ]
  },
  {
   "cell_type": "markdown",
   "metadata": {},
   "source": [
    "### Plotting results"
   ]
  },
  {
   "cell_type": "code",
   "execution_count": 106,
   "metadata": {},
   "outputs": [
    {
     "data": {
      "text/plain": [
       "Text(0.5, 1.0, 'Loss Curves')"
      ]
     },
     "execution_count": 106,
     "metadata": {},
     "output_type": "execute_result"
    },
    {
     "data": {
      "image/png": "[encoded data removed]",
      "text/plain": [
       "<Figure size 576x432 with 1 Axes>"
      ]
     },
     "metadata": {
      "needs_background": "light"
     },
     "output_type": "display_data"
    }
   ],
   "source": [
    "#Plot the Loss Curves\n",
    "plt.figure(figsize=[8,6])\n",
    "plt.plot(history_reg.history['loss'],'r',linewidth=3.0)\n",
    "plt.plot(history_reg.history['val_loss'],'b',linewidth=3.0)\n",
    "plt.legend(['Training loss', 'Validation Loss'],fontsize=18)\n",
    "plt.xlabel('Epochs ',fontsize=16)\n",
    "plt.ylabel('Loss',fontsize=16)\n",
    "plt.title('Loss Curves',fontsize=16)"
   ]
  },
  {
   "cell_type": "code",
   "execution_count": 107,
   "metadata": {},
   "outputs": [
    {
     "data": {
      "text/plain": [
       "Text(0.5, 1.0, 'Accuracy Curves')"
      ]
     },
     "execution_count": 107,
     "metadata": {},
     "output_type": "execute_result"
    },
    {
     "data": {
      "image/png": "[encoded data removed]",
      "text/plain": [
       "<Figure size 576x432 with 1 Axes>"
      ]
     },
     "metadata": {
      "needs_background": "light"
     },
     "output_type": "display_data"
    }
   ],
   "source": [
    "#Plot the Accuracy Curves\n",
    "plt.figure(figsize=[8,6])\n",
    "plt.plot(history_reg.history['acc'],'r',linewidth=3.0)\n",
    "plt.plot(history_reg.history['val_acc'],'b',linewidth=3.0)\n",
    "plt.legend(['Training Accuracy', 'Validation Accuracy'],fontsize=18)\n",
    "plt.xlabel('Epochs ',fontsize=16)\n",
    "plt.ylabel('Accuracy',fontsize=16)\n",
    "plt.title('Accuracy Curves',fontsize=16)"
   ]
  },
  {
   "cell_type": "markdown",
   "metadata": {},
   "source": [
    "### Result"
   ]
  },
  {
   "cell_type": "code",
   "execution_count": 26,
   "metadata": {},
   "outputs": [
    {
     "data": {
      "text/plain": [
       "array([7])"
      ]
     },
     "execution_count": 26,
     "metadata": {},
     "output_type": "execute_result"
    }
   ],
   "source": [
    "# Predict the most likely class\n",
    "model_reg.predict_classes(test_data[[0],:])"
   ]
  },
  {
   "cell_type": "code",
   "execution_count": 27,
   "metadata": {},
   "outputs": [
    {
     "data": {
      "text/plain": [
       "array([[5.6086000e-21, 6.6069277e-15, 1.9677467e-12, 1.6488267e-13,\n",
       "        7.8625294e-20, 9.2281844e-17, 3.6043542e-30, 1.0000000e+00,\n",
       "        2.7454575e-17, 8.5124893e-12]], dtype=float32)"
      ]
     },
     "execution_count": 27,
     "metadata": {},
     "output_type": "execute_result"
    }
   ],
   "source": [
    "# Predict the probabilities for each class \n",
    "model_reg.predict(test_data[[0],:])"
   ]
  },
  {
   "cell_type": "markdown",
   "metadata": {},
   "source": [
    "## Implementation of Deep Feed Forward"
   ]
  },
  {
   "cell_type": "code",
   "execution_count": 33,
   "metadata": {},
   "outputs": [],
   "source": [
    "from keras.models import Sequential\n",
    "from keras.layers import Dense\n",
    " \n",
    "modelDFF = Sequential()\n",
    "modelDFF.add(Dense(1000, activation='relu', input_shape=(dimData,)))\n",
    "modelDFF.add(Dense(1000, activation='relu'))\n",
    "modelDFF.add(Dense(nClasses, activation='softmax'))\n",
    "modelDFF.compile(optimizer='rmsprop', loss='categorical_crossentropy', metrics=['accuracy'])"
   ]
  },
  {
   "cell_type": "code",
   "execution_count": 34,
   "metadata": {},
   "outputs": [
    {
     "name": "stdout",
     "output_type": "stream",
     "text": [
      "Train on 60000 samples, validate on 10000 samples\n",
      "Epoch 1/20\n",
      "60000/60000 [==============================] - 6s 100us/step - loss: 0.2539 - acc: 0.9210 - val_loss: 0.1241 - val_acc: 0.9602\n",
      "Epoch 2/20\n",
      "60000/60000 [==============================] - 6s 93us/step - loss: 0.0811 - acc: 0.9750 - val_loss: 0.0729 - val_acc: 0.9772\n",
      "Epoch 3/20\n",
      "60000/60000 [==============================] - 6s 98us/step - loss: 0.0511 - acc: 0.9839 - val_loss: 0.0656 - val_acc: 0.9810\n",
      "Epoch 4/20\n",
      "60000/60000 [==============================] - 6s 106us/step - loss: 0.0359 - acc: 0.9887 - val_loss: 0.0665 - val_acc: 0.9806\n",
      "Epoch 5/20\n",
      "60000/60000 [==============================] - 7s 109us/step - loss: 0.0260 - acc: 0.9918 - val_loss: 0.1044 - val_acc: 0.9765\n",
      "Epoch 6/20\n",
      "60000/60000 [==============================] - 7s 111us/step - loss: 0.0218 - acc: 0.9931 - val_loss: 0.0906 - val_acc: 0.9785\n",
      "Epoch 7/20\n",
      "60000/60000 [==============================] - 7s 112us/step - loss: 0.0168 - acc: 0.9946 - val_loss: 0.0963 - val_acc: 0.9787\n",
      "Epoch 8/20\n",
      "60000/60000 [==============================] - 7s 116us/step - loss: 0.0161 - acc: 0.9952 - val_loss: 0.0908 - val_acc: 0.9825\n",
      "Epoch 9/20\n",
      "60000/60000 [==============================] - 7s 110us/step - loss: 0.0119 - acc: 0.9963 - val_loss: 0.1081 - val_acc: 0.9795\n",
      "Epoch 10/20\n",
      "60000/60000 [==============================] - 7s 110us/step - loss: 0.0104 - acc: 0.9966 - val_loss: 0.0971 - val_acc: 0.9808\n",
      "Epoch 11/20\n",
      "60000/60000 [==============================] - 7s 109us/step - loss: 0.0099 - acc: 0.9966 - val_loss: 0.1045 - val_acc: 0.9821\n",
      "Epoch 12/20\n",
      "60000/60000 [==============================] - 7s 110us/step - loss: 0.0093 - acc: 0.9973 - val_loss: 0.0907 - val_acc: 0.9839\n",
      "Epoch 13/20\n",
      "60000/60000 [==============================] - 7s 114us/step - loss: 0.0088 - acc: 0.9974 - val_loss: 0.1369 - val_acc: 0.9788\n",
      "Epoch 14/20\n",
      "60000/60000 [==============================] - 7s 110us/step - loss: 0.0071 - acc: 0.9980 - val_loss: 0.1095 - val_acc: 0.9829\n",
      "Epoch 15/20\n",
      "60000/60000 [==============================] - 7s 109us/step - loss: 0.0069 - acc: 0.9981 - val_loss: 0.1140 - val_acc: 0.9834\n",
      "Epoch 16/20\n",
      "60000/60000 [==============================] - 7s 110us/step - loss: 0.0077 - acc: 0.9980 - val_loss: 0.1236 - val_acc: 0.9835\n",
      "Epoch 17/20\n",
      "60000/60000 [==============================] - 7s 110us/step - loss: 0.0090 - acc: 0.9977 - val_loss: 0.1278 - val_acc: 0.9828\n",
      "Epoch 18/20\n",
      "60000/60000 [==============================] - 7s 109us/step - loss: 0.0064 - acc: 0.9982 - val_loss: 0.1206 - val_acc: 0.9830\n",
      "Epoch 19/20\n",
      "60000/60000 [==============================] - 7s 110us/step - loss: 0.0056 - acc: 0.9986 - val_loss: 0.1244 - val_acc: 0.9831\n",
      "Epoch 20/20\n",
      "60000/60000 [==============================] - 7s 110us/step - loss: 0.0056 - acc: 0.9988 - val_loss: 0.1360 - val_acc: 0.9819\n"
     ]
    }
   ],
   "source": [
    "historyDFF = modelDFF.fit(train_data, train_labels_one_hot, batch_size=256, epochs=20, verbose=1, \n",
    "                   validation_data=(test_data, test_labels_one_hot))"
   ]
  },
  {
   "cell_type": "code",
   "execution_count": 35,
   "metadata": {},
   "outputs": [
    {
     "name": "stdout",
     "output_type": "stream",
     "text": [
      "10000/10000 [==============================] - 1s 63us/step\n",
      "Evaluation result on Test Data : Loss = 0.135980320777402, accuracy = 0.9819\n"
     ]
    }
   ],
   "source": [
    "[test_loss, test_acc] = modelDFF.evaluate(test_data, test_labels_one_hot)\n",
    "print(\"Evaluation result on Test Data : Loss = {}, accuracy = {}\".format(test_loss, test_acc))"
   ]
  },
  {
   "cell_type": "code",
   "execution_count": 37,
   "metadata": {},
   "outputs": [
    {
     "data": {
      "text/plain": [
       "Text(0.5, 1.0, 'Loss Curves')"
      ]
     },
     "execution_count": 37,
     "metadata": {},
     "output_type": "execute_result"
    },
    {
     "data": {
      "image/png": "[encoded data removed]",
      "text/plain": [
       "<Figure size 576x432 with 1 Axes>"
      ]
     },
     "metadata": {
      "needs_background": "light"
     },
     "output_type": "display_data"
    }
   ],
   "source": [
    "#Plot the Loss Curves\n",
    "plt.figure(figsize=[8,6])\n",
    "plt.plot(historyDFF.history['loss'],'r',linewidth=3.0)\n",
    "plt.plot(historyDFF.history['val_loss'],'b',linewidth=3.0)\n",
    "plt.legend(['Training loss', 'Validation Loss'],fontsize=18)\n",
    "plt.xlabel('Epochs ',fontsize=16)\n",
    "plt.ylabel('Loss',fontsize=16)\n",
    "plt.title('Loss Curves',fontsize=16)"
   ]
  },
  {
   "cell_type": "code",
   "execution_count": 38,
   "metadata": {},
   "outputs": [
    {
     "data": {
      "text/plain": [
       "Text(0.5, 1.0, 'Accuracy Curves')"
      ]
     },
     "execution_count": 38,
     "metadata": {},
     "output_type": "execute_result"
    },
    {
     "data": {
      "image/png": "[encoded data removed]",
      "text/plain": [
       "<Figure size 576x432 with 1 Axes>"
      ]
     },
     "metadata": {
      "needs_background": "light"
     },
     "output_type": "display_data"
    }
   ],
   "source": [
    "#Plot the Accuracy Curves\n",
    "plt.figure(figsize=[8,6])\n",
    "plt.plot(historyDFF.history['acc'],'r',linewidth=3.0)\n",
    "plt.plot(historyDFF.history['val_acc'],'b',linewidth=3.0)\n",
    "plt.legend(['Training Accuracy', 'Validation Accuracy'],fontsize=18)\n",
    "plt.xlabel('Epochs ',fontsize=16)\n",
    "plt.ylabel('Accuracy',fontsize=16)\n",
    "plt.title('Accuracy Curves',fontsize=16)"
   ]
  },
  {
   "cell_type": "code",
   "execution_count": 39,
   "metadata": {},
   "outputs": [],
   "source": [
    "from keras.layers import Dropout\n",
    " \n",
    "modelDFF_reg = Sequential()\n",
    "modelDFF_reg.add(Dense(512, activation='relu', input_shape=(dimData,)))\n",
    "modelDFF_reg.add(Dropout(0.5))\n",
    "modelDFF_reg.add(Dense(512, activation='relu'))\n",
    "modelDFF_reg.add(Dropout(0.5))\n",
    "modelDFF_reg.add(Dense(nClasses, activation='softmax'))"
   ]
  },
  {
   "cell_type": "code",
   "execution_count": 40,
   "metadata": {},
   "outputs": [
    {
     "name": "stdout",
     "output_type": "stream",
     "text": [
      "Train on 60000 samples, validate on 10000 samples\n",
      "Epoch 1/20\n",
      "60000/60000 [==============================] - 3s 53us/step - loss: 0.3722 - acc: 0.8860 - val_loss: 0.1347 - val_acc: 0.9580\n",
      "Epoch 2/20\n",
      "60000/60000 [==============================] - 3s 46us/step - loss: 0.1672 - acc: 0.9496 - val_loss: 0.1080 - val_acc: 0.9646\n",
      "Epoch 3/20\n",
      "60000/60000 [==============================] - 3s 49us/step - loss: 0.1315 - acc: 0.9610 - val_loss: 0.0836 - val_acc: 0.9749\n",
      "Epoch 4/20\n",
      "60000/60000 [==============================] - 3s 44us/step - loss: 0.1077 - acc: 0.9679 - val_loss: 0.0820 - val_acc: 0.9772\n",
      "Epoch 5/20\n",
      "60000/60000 [==============================] - 3s 45us/step - loss: 0.0973 - acc: 0.9713 - val_loss: 0.0744 - val_acc: 0.9786\n",
      "Epoch 6/20\n",
      "60000/60000 [==============================] - 3s 53us/step - loss: 0.0884 - acc: 0.9734 - val_loss: 0.0781 - val_acc: 0.9790\n",
      "Epoch 7/20\n",
      "60000/60000 [==============================] - 3s 50us/step - loss: 0.0825 - acc: 0.9753 - val_loss: 0.0733 - val_acc: 0.9798\n",
      "Epoch 8/20\n",
      "60000/60000 [==============================] - 3s 45us/step - loss: 0.0774 - acc: 0.9774 - val_loss: 0.0764 - val_acc: 0.9807\n",
      "Epoch 9/20\n",
      "60000/60000 [==============================] - 3s 55us/step - loss: 0.0699 - acc: 0.9796 - val_loss: 0.0821 - val_acc: 0.9797\n",
      "Epoch 10/20\n",
      "60000/60000 [==============================] - 3s 53us/step - loss: 0.0681 - acc: 0.9807 - val_loss: 0.0796 - val_acc: 0.9786\n",
      "Epoch 11/20\n",
      "60000/60000 [==============================] - 3s 48us/step - loss: 0.0666 - acc: 0.9810 - val_loss: 0.0830 - val_acc: 0.9814\n",
      "Epoch 12/20\n",
      "60000/60000 [==============================] - 3s 49us/step - loss: 0.0636 - acc: 0.9816 - val_loss: 0.0765 - val_acc: 0.9828\n",
      "Epoch 13/20\n",
      "60000/60000 [==============================] - 3s 48us/step - loss: 0.0603 - acc: 0.9821 - val_loss: 0.0785 - val_acc: 0.9817\n",
      "Epoch 14/20\n",
      "60000/60000 [==============================] - 3s 49us/step - loss: 0.0598 - acc: 0.9826 - val_loss: 0.0791 - val_acc: 0.9818\n",
      "Epoch 15/20\n",
      "60000/60000 [==============================] - 3s 52us/step - loss: 0.0563 - acc: 0.9828 - val_loss: 0.0731 - val_acc: 0.9833\n",
      "Epoch 16/20\n",
      "60000/60000 [==============================] - 3s 52us/step - loss: 0.0542 - acc: 0.9839 - val_loss: 0.0760 - val_acc: 0.9838\n",
      "Epoch 17/20\n",
      "60000/60000 [==============================] - 3s 49us/step - loss: 0.0531 - acc: 0.9851 - val_loss: 0.0817 - val_acc: 0.9828\n",
      "Epoch 18/20\n",
      "60000/60000 [==============================] - 3s 49us/step - loss: 0.0519 - acc: 0.9854 - val_loss: 0.0784 - val_acc: 0.9814\n",
      "Epoch 19/20\n",
      "60000/60000 [==============================] - 3s 49us/step - loss: 0.0511 - acc: 0.9849 - val_loss: 0.0843 - val_acc: 0.9821\n",
      "Epoch 20/20\n",
      "60000/60000 [==============================] - 3s 49us/step - loss: 0.0510 - acc: 0.9860 - val_loss: 0.0796 - val_acc: 0.9840\n"
     ]
    }
   ],
   "source": [
    "modelDFF_reg.compile(optimizer='rmsprop', loss='categorical_crossentropy', metrics=['accuracy'])\n",
    "historyDFF_reg = modelDFF_reg.fit(train_data, train_labels_one_hot, batch_size=256, epochs=20, verbose=1, \n",
    "                            validation_data=(test_data, test_labels_one_hot))"
   ]
  },
  {
   "cell_type": "markdown",
   "metadata": {},
   "source": [
    "### Plots for Result"
   ]
  },
  {
   "cell_type": "code",
   "execution_count": 42,
   "metadata": {},
   "outputs": [
    {
     "data": {
      "text/plain": [
       "Text(0.5, 1.0, 'Loss Curves')"
      ]
     },
     "execution_count": 42,
     "metadata": {},
     "output_type": "execute_result"
    },
    {
     "data": {
      "image/png": "[encoded data removed]",
      "text/plain": [
       "<Figure size 576x432 with 1 Axes>"
      ]
     },
     "metadata": {
      "needs_background": "light"
     },
     "output_type": "display_data"
    }
   ],
   "source": [
    "#Plot the Loss Curves\n",
    "plt.figure(figsize=[8,6])\n",
    "plt.plot(historyDFF_reg.history['loss'],'r',linewidth=3.0)\n",
    "plt.plot(historyDFF_reg.history['val_loss'],'b',linewidth=3.0)\n",
    "plt.legend(['Training loss', 'Validation Loss'],fontsize=18)\n",
    "plt.xlabel('Epochs ',fontsize=16)\n",
    "plt.ylabel('Loss',fontsize=16)\n",
    "plt.title('Loss Curves',fontsize=16)"
   ]
  },
  {
   "cell_type": "code",
   "execution_count": 43,
   "metadata": {},
   "outputs": [
    {
     "data": {
      "text/plain": [
       "Text(0.5, 1.0, 'Accuracy Curves')"
      ]
     },
     "execution_count": 43,
     "metadata": {},
     "output_type": "execute_result"
    },
    {
     "data": {
      "image/png": "[encoded data removed]",
      "text/plain": [
       "<Figure size 576x432 with 1 Axes>"
      ]
     },
     "metadata": {
      "needs_background": "light"
     },
     "output_type": "display_data"
    }
   ],
   "source": [
    "#Plot the Accuracy Curves\n",
    "plt.figure(figsize=[8,6])\n",
    "plt.plot(historyDFF_reg.history['acc'],'r',linewidth=3.0)\n",
    "plt.plot(historyDFF_reg.history['val_acc'],'b',linewidth=3.0)\n",
    "plt.legend(['Training Accuracy', 'Validation Accuracy'],fontsize=18)\n",
    "plt.xlabel('Epochs ',fontsize=16)\n",
    "plt.ylabel('Accuracy',fontsize=16)\n",
    "plt.title('Accuracy Curves',fontsize=16)"
   ]
  },
  {
   "cell_type": "markdown",
   "metadata": {},
   "source": [
    "### Results"
   ]
  },
  {
   "cell_type": "code",
   "execution_count": 44,
   "metadata": {},
   "outputs": [
    {
     "data": {
      "text/plain": [
       "array([7])"
      ]
     },
     "execution_count": 44,
     "metadata": {},
     "output_type": "execute_result"
    }
   ],
   "source": [
    "# Predict the most likely class\n",
    "modelDFF_reg.predict_classes(test_data[[0],:])"
   ]
  },
  {
   "cell_type": "code",
   "execution_count": 45,
   "metadata": {},
   "outputs": [
    {
     "data": {
      "text/plain": [
       "array([[1.0185416e-22, 8.2341264e-16, 1.5496407e-14, 2.7234223e-13,\n",
       "        3.0477845e-21, 9.1398238e-18, 8.7327710e-32, 1.0000000e+00,\n",
       "        1.7705164e-20, 1.4626761e-12]], dtype=float32)"
      ]
     },
     "execution_count": 45,
     "metadata": {},
     "output_type": "execute_result"
    }
   ],
   "source": [
    "# Predict the probabilities for each class \n",
    "modelDFF_reg.predict(test_data[[0],:])"
   ]
  },
  {
   "cell_type": "markdown",
   "metadata": {},
   "source": [
    "### Implementing Recurrent Neural Network"
   ]
  },
  {
   "cell_type": "code",
   "execution_count": 83,
   "metadata": {},
   "outputs": [],
   "source": [
    "import numpy as np\n",
    "from sklearn.metrics import accuracy_score\n",
    "from keras.datasets import reuters\n",
    "from keras.models import Sequential\n",
    "from keras.layers import Activation, Dense\n",
    "from keras import optimizers\n",
    "from keras.preprocessing.sequence import pad_sequences\n",
    "from keras.wrappers.scikit_learn import KerasClassifier\n",
    "from keras.utils import to_categorical"
   ]
  },
  {
   "cell_type": "code",
   "execution_count": 84,
   "metadata": {},
   "outputs": [],
   "source": [
    "# parameters for data load\n",
    "num_words = 30000\n",
    "maxlen = 50\n",
    "test_split = 0.3"
   ]
  },
  {
   "cell_type": "code",
   "execution_count": 85,
   "metadata": {},
   "outputs": [],
   "source": [
    "(X_train, y_train), (X_test, y_test) = reuters.load_data(num_words = num_words, maxlen = maxlen, test_split = test_split)"
   ]
  },
  {
   "cell_type": "code",
   "execution_count": 86,
   "metadata": {},
   "outputs": [],
   "source": [
    "# pad the sequences with zeros \n",
    "# padding parameter is set to 'post' => 0's are appended to end of sequences\n",
    "X_train = pad_sequences(X_train, padding = 'post')\n",
    "X_test = pad_sequences(X_test, padding = 'post')"
   ]
  },
  {
   "cell_type": "code",
   "execution_count": 87,
   "metadata": {},
   "outputs": [],
   "source": [
    "X_train = np.array(X_train).reshape((X_train.shape[0], X_train.shape[1], 1))\n",
    "X_test = np.array(X_test).reshape((X_test.shape[0], X_test.shape[1], 1))"
   ]
  },
  {
   "cell_type": "code",
   "execution_count": 88,
   "metadata": {},
   "outputs": [],
   "source": [
    "y_data = np.concatenate((y_train, y_test))\n",
    "y_data = to_categorical(y_data)"
   ]
  },
  {
   "cell_type": "code",
   "execution_count": 89,
   "metadata": {},
   "outputs": [],
   "source": [
    "y_train = y_data[:1395]\n",
    "y_test = y_data[1395:]"
   ]
  },
  {
   "cell_type": "code",
   "execution_count": 90,
   "metadata": {},
   "outputs": [
    {
     "name": "stdout",
     "output_type": "stream",
     "text": [
      "(1395, 49, 1)\n",
      "(599, 49, 1)\n",
      "(1395, 46)\n",
      "(599, 46)\n"
     ]
    }
   ],
   "source": [
    "print(X_train.shape)\n",
    "print(X_test.shape)\n",
    "print(y_train.shape)\n",
    "print(y_test.shape)"
   ]
  },
  {
   "cell_type": "code",
   "execution_count": 91,
   "metadata": {},
   "outputs": [],
   "source": [
    "from keras.models import Sequential\n",
    "from keras.layers import Dense, SimpleRNN, Activation\n",
    "from keras import optimizers\n",
    "from keras.wrappers.scikit_learn import KerasClassifier"
   ]
  },
  {
   "cell_type": "code",
   "execution_count": 92,
   "metadata": {},
   "outputs": [],
   "source": [
    "def simple_rnn():\n",
    "    modelRNN = Sequential()\n",
    "    modelRNN.add(SimpleRNN(50, input_shape = (49,1), return_sequences = False))\n",
    "    modelRNN.add(Dense(46))\n",
    "    modelRNN.add(Activation('softmax'))\n",
    "    \n",
    "    adam = optimizers.Adam(lr = 0.001)\n",
    "    modelRNN.compile(loss = 'categorical_crossentropy', optimizer = adam, metrics = ['accuracy'])\n",
    "    \n",
    "    return modelRNN"
   ]
  },
  {
   "cell_type": "code",
   "execution_count": 93,
   "metadata": {},
   "outputs": [],
   "source": [
    "modelRNN = KerasClassifier(build_fn = simple_rnn, epochs = 200, batch_size = 50, verbose = 1)"
   ]
  },
  {
   "cell_type": "code",
   "execution_count": 94,
   "metadata": {},
   "outputs": [
    {
     "name": "stdout",
     "output_type": "stream",
     "text": [
      "Epoch 1/200\n",
      "1395/1395 [==============================] - 1s 802us/step - loss: 3.3691 - acc: 0.3305\n",
      "Epoch 2/200\n",
      "1395/1395 [==============================] - 0s 240us/step - loss: 1.5473 - acc: 0.7118\n",
      "Epoch 3/200\n",
      "1395/1395 [==============================] - 0s 243us/step - loss: 1.2089 - acc: 0.7147\n",
      "Epoch 4/200\n",
      "1395/1395 [==============================] - 0s 243us/step - loss: 1.1758 - acc: 0.7147\n",
      "Epoch 5/200\n",
      "1395/1395 [==============================] - 0s 241us/step - loss: 1.1644 - acc: 0.7147\n",
      "Epoch 6/200\n",
      "1395/1395 [==============================] - 0s 249us/step - loss: 1.1589 - acc: 0.7147\n",
      "Epoch 7/200\n",
      "1395/1395 [==============================] - 0s 253us/step - loss: 1.1560 - acc: 0.7147\n",
      "Epoch 8/200\n",
      "1395/1395 [==============================] - 0s 261us/step - loss: 1.1535 - acc: 0.7147\n",
      "Epoch 9/200\n",
      "1395/1395 [==============================] - 0s 271us/step - loss: 1.1509 - acc: 0.7147\n",
      "Epoch 10/200\n",
      "1395/1395 [==============================] - 0s 248us/step - loss: 1.1491 - acc: 0.7147\n",
      "Epoch 11/200\n",
      "1395/1395 [==============================] - 0s 253us/step - loss: 1.1492 - acc: 0.7147\n",
      "Epoch 12/200\n",
      "1395/1395 [==============================] - 0s 273us/step - loss: 1.1474 - acc: 0.7147\n",
      "Epoch 13/200\n",
      "1395/1395 [==============================] - 0s 246us/step - loss: 1.1447 - acc: 0.7147\n",
      "Epoch 14/200\n",
      "1395/1395 [==============================] - 0s 254us/step - loss: 1.1443 - acc: 0.7147\n",
      "Epoch 15/200\n",
      "1395/1395 [==============================] - 0s 243us/step - loss: 1.1440 - acc: 0.7147\n",
      "Epoch 16/200\n",
      "1395/1395 [==============================] - 0s 248us/step - loss: 1.1453 - acc: 0.7147\n",
      "Epoch 17/200\n",
      "1395/1395 [==============================] - 0s 261us/step - loss: 1.1423 - acc: 0.7147\n",
      "Epoch 18/200\n",
      "1395/1395 [==============================] - 0s 252us/step - loss: 1.1419 - acc: 0.7147\n",
      "Epoch 19/200\n",
      "1395/1395 [==============================] - 0s 263us/step - loss: 1.1407 - acc: 0.7147\n",
      "Epoch 20/200\n",
      "1395/1395 [==============================] - 0s 261us/step - loss: 1.1397 - acc: 0.7147\n",
      "Epoch 21/200\n",
      "1395/1395 [==============================] - 0s 242us/step - loss: 1.1395 - acc: 0.7147\n",
      "Epoch 22/200\n",
      "1395/1395 [==============================] - 0s 237us/step - loss: 1.1384 - acc: 0.7147\n",
      "Epoch 23/200\n",
      "1395/1395 [==============================] - 0s 240us/step - loss: 1.1394 - acc: 0.7161\n",
      "Epoch 24/200\n",
      "1395/1395 [==============================] - 0s 243us/step - loss: 1.1391 - acc: 0.7161\n",
      "Epoch 25/200\n",
      "1395/1395 [==============================] - 0s 259us/step - loss: 1.1343 - acc: 0.7147\n",
      "Epoch 26/200\n",
      "1395/1395 [==============================] - 0s 243us/step - loss: 1.1411 - acc: 0.7168\n",
      "Epoch 27/200\n",
      "1395/1395 [==============================] - 0s 248us/step - loss: 1.1332 - acc: 0.7154\n",
      "Epoch 28/200\n",
      "1395/1395 [==============================] - 0s 241us/step - loss: 1.1284 - acc: 0.7168\n",
      "Epoch 29/200\n",
      "1395/1395 [==============================] - 0s 245us/step - loss: 1.1248 - acc: 0.7154\n",
      "Epoch 30/200\n",
      "1395/1395 [==============================] - 0s 244us/step - loss: 1.1229 - acc: 0.7176\n",
      "Epoch 31/200\n",
      "1395/1395 [==============================] - 0s 243us/step - loss: 1.1381 - acc: 0.7140\n",
      "Epoch 32/200\n",
      "1395/1395 [==============================] - 0s 249us/step - loss: 1.1293 - acc: 0.7176\n",
      "Epoch 33/200\n",
      "1395/1395 [==============================] - 0s 245us/step - loss: 1.1284 - acc: 0.7211\n",
      "Epoch 34/200\n",
      "1395/1395 [==============================] - 0s 241us/step - loss: 1.1224 - acc: 0.7161\n",
      "Epoch 35/200\n",
      "1395/1395 [==============================] - 0s 244us/step - loss: 1.1102 - acc: 0.7197\n",
      "Epoch 36/200\n",
      "1395/1395 [==============================] - 0s 239us/step - loss: 1.1077 - acc: 0.7190\n",
      "Epoch 37/200\n",
      "1395/1395 [==============================] - 0s 241us/step - loss: 1.1203 - acc: 0.7176\n",
      "Epoch 38/200\n",
      "1395/1395 [==============================] - 0s 248us/step - loss: 1.1144 - acc: 0.7140\n",
      "Epoch 39/200\n",
      "1395/1395 [==============================] - 0s 244us/step - loss: 1.0988 - acc: 0.7176\n",
      "Epoch 40/200\n",
      "1395/1395 [==============================] - 0s 241us/step - loss: 1.0878 - acc: 0.7168\n",
      "Epoch 41/200\n",
      "1395/1395 [==============================] - 0s 245us/step - loss: 1.0934 - acc: 0.7133\n",
      "Epoch 42/200\n",
      "1395/1395 [==============================] - 0s 249us/step - loss: 1.0800 - acc: 0.7154\n",
      "Epoch 43/200\n",
      "1395/1395 [==============================] - 0s 253us/step - loss: 1.0626 - acc: 0.7161\n",
      "Epoch 44/200\n",
      "1395/1395 [==============================] - 0s 245us/step - loss: 1.0531 - acc: 0.7161\n",
      "Epoch 45/200\n",
      "1395/1395 [==============================] - 0s 244us/step - loss: 1.0601 - acc: 0.7183\n",
      "Epoch 46/200\n",
      "1395/1395 [==============================] - 0s 245us/step - loss: 1.0427 - acc: 0.7190\n",
      "Epoch 47/200\n",
      "1395/1395 [==============================] - 0s 245us/step - loss: 1.0399 - acc: 0.7190\n",
      "Epoch 48/200\n",
      "1395/1395 [==============================] - 0s 244us/step - loss: 1.0309 - acc: 0.7176\n",
      "Epoch 49/200\n",
      "1395/1395 [==============================] - 0s 223us/step - loss: 1.0241 - acc: 0.7219\n",
      "Epoch 50/200\n",
      "1395/1395 [==============================] - 0s 237us/step - loss: 1.0238 - acc: 0.7233\n",
      "Epoch 51/200\n",
      "1395/1395 [==============================] - 0s 262us/step - loss: 1.0366 - acc: 0.7226\n",
      "Epoch 52/200\n",
      "1395/1395 [==============================] - 0s 250us/step - loss: 1.0361 - acc: 0.7211\n",
      "Epoch 53/200\n",
      "1395/1395 [==============================] - 0s 257us/step - loss: 1.0239 - acc: 0.7211\n",
      "Epoch 54/200\n",
      "1395/1395 [==============================] - 0s 256us/step - loss: 1.0129 - acc: 0.7204\n",
      "Epoch 55/200\n",
      "1395/1395 [==============================] - 0s 261us/step - loss: 1.0073 - acc: 0.7176\n",
      "Epoch 56/200\n",
      "1395/1395 [==============================] - 0s 264us/step - loss: 1.0072 - acc: 0.7168\n",
      "Epoch 57/200\n",
      "1395/1395 [==============================] - 0s 277us/step - loss: 1.0001 - acc: 0.7276\n",
      "Epoch 58/200\n",
      "1395/1395 [==============================] - 0s 265us/step - loss: 0.9967 - acc: 0.7262\n",
      "Epoch 59/200\n",
      "1395/1395 [==============================] - 0s 235us/step - loss: 0.9876 - acc: 0.7305\n",
      "Epoch 60/200\n",
      "1395/1395 [==============================] - 0s 259us/step - loss: 1.0076 - acc: 0.7168\n",
      "Epoch 61/200\n",
      "1395/1395 [==============================] - 0s 252us/step - loss: 0.9883 - acc: 0.7226\n",
      "Epoch 62/200\n",
      "1395/1395 [==============================] - 0s 243us/step - loss: 0.9877 - acc: 0.7233\n",
      "Epoch 63/200\n",
      "1395/1395 [==============================] - 0s 229us/step - loss: 0.9748 - acc: 0.7247\n",
      "Epoch 64/200\n",
      "1395/1395 [==============================] - 0s 237us/step - loss: 0.9773 - acc: 0.7312\n",
      "Epoch 65/200\n",
      "1395/1395 [==============================] - 0s 233us/step - loss: 0.9813 - acc: 0.7290\n",
      "Epoch 66/200\n",
      "1395/1395 [==============================] - 0s 238us/step - loss: 0.9978 - acc: 0.7233\n",
      "Epoch 67/200\n",
      "1395/1395 [==============================] - 0s 228us/step - loss: 0.9897 - acc: 0.7283\n",
      "Epoch 68/200\n",
      "1395/1395 [==============================] - 0s 247us/step - loss: 0.9809 - acc: 0.7219\n",
      "Epoch 69/200\n",
      "1395/1395 [==============================] - 0s 236us/step - loss: 0.9736 - acc: 0.7276\n",
      "Epoch 70/200\n",
      "1395/1395 [==============================] - 0s 213us/step - loss: 0.9658 - acc: 0.7233\n",
      "Epoch 71/200\n",
      "1395/1395 [==============================] - 0s 216us/step - loss: 0.9745 - acc: 0.7226\n",
      "Epoch 72/200\n",
      "1395/1395 [==============================] - 0s 224us/step - loss: 0.9602 - acc: 0.7240\n",
      "Epoch 73/200\n",
      "1395/1395 [==============================] - 0s 247us/step - loss: 0.9513 - acc: 0.7262\n",
      "Epoch 74/200\n",
      "1395/1395 [==============================] - 0s 254us/step - loss: 0.9509 - acc: 0.7348\n",
      "Epoch 75/200\n",
      "1395/1395 [==============================] - 0s 278us/step - loss: 0.9525 - acc: 0.7290\n",
      "Epoch 76/200\n",
      "1395/1395 [==============================] - 0s 220us/step - loss: 0.9406 - acc: 0.7297\n",
      "Epoch 77/200\n",
      "1395/1395 [==============================] - 0s 212us/step - loss: 0.9315 - acc: 0.7312\n",
      "Epoch 78/200\n",
      "1395/1395 [==============================] - 0s 244us/step - loss: 0.9286 - acc: 0.7290\n",
      "Epoch 79/200\n",
      "1395/1395 [==============================] - 0s 213us/step - loss: 0.9219 - acc: 0.7305\n",
      "Epoch 80/200\n",
      "1395/1395 [==============================] - 0s 215us/step - loss: 0.9254 - acc: 0.7355\n",
      "Epoch 81/200\n",
      "1395/1395 [==============================] - 0s 215us/step - loss: 0.9147 - acc: 0.7362\n",
      "Epoch 82/200\n"
     ]
    },
    {
     "name": "stdout",
     "output_type": "stream",
     "text": [
      "1395/1395 [==============================] - 0s 230us/step - loss: 0.9260 - acc: 0.7290\n",
      "Epoch 83/200\n",
      "1395/1395 [==============================] - 0s 241us/step - loss: 0.9078 - acc: 0.7297\n",
      "Epoch 84/200\n",
      "1395/1395 [==============================] - 0s 244us/step - loss: 0.9284 - acc: 0.7312\n",
      "Epoch 85/200\n",
      "1395/1395 [==============================] - 0s 275us/step - loss: 0.9150 - acc: 0.7362\n",
      "Epoch 86/200\n",
      "1395/1395 [==============================] - 0s 264us/step - loss: 0.8999 - acc: 0.7333\n",
      "Epoch 87/200\n",
      "1395/1395 [==============================] - 0s 262us/step - loss: 0.8942 - acc: 0.7384\n",
      "Epoch 88/200\n",
      "1395/1395 [==============================] - 0s 244us/step - loss: 0.8945 - acc: 0.7319\n",
      "Epoch 89/200\n",
      "1395/1395 [==============================] - 0s 237us/step - loss: 0.8930 - acc: 0.7412\n",
      "Epoch 90/200\n",
      "1395/1395 [==============================] - 0s 239us/step - loss: 0.9270 - acc: 0.7297\n",
      "Epoch 91/200\n",
      "1395/1395 [==============================] - 0s 277us/step - loss: 0.9093 - acc: 0.7427\n",
      "Epoch 92/200\n",
      "1395/1395 [==============================] - 0s 353us/step - loss: 0.9024 - acc: 0.7319\n",
      "Epoch 93/200\n",
      "1395/1395 [==============================] - 0s 308us/step - loss: 0.8812 - acc: 0.7391\n",
      "Epoch 94/200\n",
      "1395/1395 [==============================] - 0s 262us/step - loss: 0.9134 - acc: 0.7283\n",
      "Epoch 95/200\n",
      "1395/1395 [==============================] - 0s 238us/step - loss: 0.8918 - acc: 0.7348\n",
      "Epoch 96/200\n",
      "1395/1395 [==============================] - 0s 300us/step - loss: 0.8946 - acc: 0.7405\n",
      "Epoch 97/200\n",
      "1395/1395 [==============================] - 0s 330us/step - loss: 0.8897 - acc: 0.7376\n",
      "Epoch 98/200\n",
      "1395/1395 [==============================] - 0s 288us/step - loss: 0.8803 - acc: 0.7369\n",
      "Epoch 99/200\n",
      "1395/1395 [==============================] - 0s 268us/step - loss: 0.8791 - acc: 0.7412\n",
      "Epoch 100/200\n",
      "1395/1395 [==============================] - 0s 292us/step - loss: 0.8751 - acc: 0.7376\n",
      "Epoch 101/200\n",
      "1395/1395 [==============================] - 0s 227us/step - loss: 0.8876 - acc: 0.7355\n",
      "Epoch 102/200\n",
      "1395/1395 [==============================] - 0s 276us/step - loss: 0.8979 - acc: 0.7441\n",
      "Epoch 103/200\n",
      "1395/1395 [==============================] - 0s 271us/step - loss: 0.8803 - acc: 0.7305\n",
      "Epoch 104/200\n",
      "1395/1395 [==============================] - 0s 271us/step - loss: 0.8680 - acc: 0.7455\n",
      "Epoch 105/200\n",
      "1395/1395 [==============================] - 0s 260us/step - loss: 0.8880 - acc: 0.7326\n",
      "Epoch 106/200\n",
      "1395/1395 [==============================] - 0s 290us/step - loss: 0.8776 - acc: 0.7398\n",
      "Epoch 107/200\n",
      "1395/1395 [==============================] - 0s 263us/step - loss: 0.8698 - acc: 0.7398\n",
      "Epoch 108/200\n",
      "1395/1395 [==============================] - 0s 270us/step - loss: 0.8589 - acc: 0.7441\n",
      "Epoch 109/200\n",
      "1395/1395 [==============================] - 0s 271us/step - loss: 0.8586 - acc: 0.7455\n",
      "Epoch 110/200\n",
      "1395/1395 [==============================] - 0s 271us/step - loss: 1.0404 - acc: 0.7176\n",
      "Epoch 111/200\n",
      "1395/1395 [==============================] - 0s 287us/step - loss: 0.9838 - acc: 0.7183\n",
      "Epoch 112/200\n",
      "1395/1395 [==============================] - 0s 311us/step - loss: 0.9301 - acc: 0.7326\n",
      "Epoch 113/200\n",
      "1395/1395 [==============================] - 0s 266us/step - loss: 0.9113 - acc: 0.7441\n",
      "Epoch 114/200\n",
      "1395/1395 [==============================] - 0s 298us/step - loss: 0.8754 - acc: 0.7405\n",
      "Epoch 115/200\n",
      "1395/1395 [==============================] - 0s 284us/step - loss: 0.8550 - acc: 0.7462\n",
      "Epoch 116/200\n",
      "1395/1395 [==============================] - 0s 242us/step - loss: 0.8597 - acc: 0.7441\n",
      "Epoch 117/200\n",
      "1395/1395 [==============================] - 0s 262us/step - loss: 0.8658 - acc: 0.7405\n",
      "Epoch 118/200\n",
      "1395/1395 [==============================] - 0s 290us/step - loss: 0.8692 - acc: 0.7455\n",
      "Epoch 119/200\n",
      "1395/1395 [==============================] - 0s 246us/step - loss: 0.8588 - acc: 0.7477\n",
      "Epoch 120/200\n",
      "1395/1395 [==============================] - 0s 240us/step - loss: 0.8516 - acc: 0.7434\n",
      "Epoch 121/200\n",
      "1395/1395 [==============================] - 0s 256us/step - loss: 0.8449 - acc: 0.7412\n",
      "Epoch 122/200\n",
      "1395/1395 [==============================] - 0s 280us/step - loss: 0.8556 - acc: 0.7441\n",
      "Epoch 123/200\n",
      "1395/1395 [==============================] - 0s 305us/step - loss: 0.8481 - acc: 0.7427\n",
      "Epoch 124/200\n",
      "1395/1395 [==============================] - 0s 304us/step - loss: 0.8413 - acc: 0.7491\n",
      "Epoch 125/200\n",
      "1395/1395 [==============================] - 0s 298us/step - loss: 0.8414 - acc: 0.7484\n",
      "Epoch 126/200\n",
      "1395/1395 [==============================] - 0s 326us/step - loss: 0.8426 - acc: 0.7398\n",
      "Epoch 127/200\n",
      "1395/1395 [==============================] - 0s 291us/step - loss: 0.8385 - acc: 0.7412\n",
      "Epoch 128/200\n",
      "1395/1395 [==============================] - 0s 240us/step - loss: 0.8401 - acc: 0.7434\n",
      "Epoch 129/200\n",
      "1395/1395 [==============================] - 0s 295us/step - loss: 0.8320 - acc: 0.7405\n",
      "Epoch 130/200\n",
      "1395/1395 [==============================] - 0s 288us/step - loss: 0.8603 - acc: 0.7412\n",
      "Epoch 131/200\n",
      "1395/1395 [==============================] - 0s 205us/step - loss: 0.8478 - acc: 0.7398\n",
      "Epoch 132/200\n",
      "1395/1395 [==============================] - 0s 234us/step - loss: 0.8354 - acc: 0.7434\n",
      "Epoch 133/200\n",
      "1395/1395 [==============================] - 0s 231us/step - loss: 0.8493 - acc: 0.7355\n",
      "Epoch 134/200\n",
      "1395/1395 [==============================] - 0s 253us/step - loss: 0.8376 - acc: 0.7455\n",
      "Epoch 135/200\n",
      "1395/1395 [==============================] - 0s 275us/step - loss: 0.8297 - acc: 0.7484\n",
      "Epoch 136/200\n",
      "1395/1395 [==============================] - 0s 269us/step - loss: 0.8367 - acc: 0.7405\n",
      "Epoch 137/200\n",
      "1395/1395 [==============================] - 0s 231us/step - loss: 0.8264 - acc: 0.7462\n",
      "Epoch 138/200\n",
      "1395/1395 [==============================] - 0s 268us/step - loss: 0.8180 - acc: 0.7462\n",
      "Epoch 139/200\n",
      "1395/1395 [==============================] - 0s 269us/step - loss: 0.8264 - acc: 0.7419\n",
      "Epoch 140/200\n",
      "1395/1395 [==============================] - 0s 301us/step - loss: 0.8168 - acc: 0.7462\n",
      "Epoch 141/200\n",
      "1395/1395 [==============================] - 0s 338us/step - loss: 0.8241 - acc: 0.7448\n",
      "Epoch 142/200\n",
      "1395/1395 [==============================] - 0s 275us/step - loss: 0.8423 - acc: 0.7427\n",
      "Epoch 143/200\n",
      "1395/1395 [==============================] - 0s 221us/step - loss: 0.8337 - acc: 0.7441\n",
      "Epoch 144/200\n",
      "1395/1395 [==============================] - 0s 230us/step - loss: 0.8203 - acc: 0.7448\n",
      "Epoch 145/200\n",
      "1395/1395 [==============================] - 0s 316us/step - loss: 0.8131 - acc: 0.7448\n",
      "Epoch 146/200\n",
      "1395/1395 [==============================] - 0s 306us/step - loss: 0.8246 - acc: 0.7484\n",
      "Epoch 147/200\n",
      "1395/1395 [==============================] - 0s 322us/step - loss: 0.8184 - acc: 0.7441\n",
      "Epoch 148/200\n",
      "1395/1395 [==============================] - 0s 278us/step - loss: 0.8086 - acc: 0.7491\n",
      "Epoch 149/200\n",
      "1395/1395 [==============================] - 0s 239us/step - loss: 0.8186 - acc: 0.7448\n",
      "Epoch 150/200\n",
      "1395/1395 [==============================] - 0s 271us/step - loss: 0.8150 - acc: 0.7462\n",
      "Epoch 151/200\n",
      "1395/1395 [==============================] - 0s 251us/step - loss: 0.8151 - acc: 0.7441\n",
      "Epoch 152/200\n",
      "1395/1395 [==============================] - 0s 238us/step - loss: 0.8191 - acc: 0.7477\n",
      "Epoch 153/200\n",
      "1395/1395 [==============================] - 0s 243us/step - loss: 0.8959 - acc: 0.7462\n",
      "Epoch 154/200\n",
      "1395/1395 [==============================] - 0s 262us/step - loss: 0.8305 - acc: 0.7455\n",
      "Epoch 155/200\n",
      "1395/1395 [==============================] - 0s 258us/step - loss: 0.8138 - acc: 0.7455\n",
      "Epoch 156/200\n",
      "1395/1395 [==============================] - 0s 237us/step - loss: 0.8090 - acc: 0.7462\n",
      "Epoch 157/200\n",
      "1395/1395 [==============================] - 0s 279us/step - loss: 0.8142 - acc: 0.7462\n",
      "Epoch 158/200\n",
      "1395/1395 [==============================] - 0s 278us/step - loss: 0.8047 - acc: 0.7484\n",
      "Epoch 159/200\n",
      "1395/1395 [==============================] - 0s 260us/step - loss: 0.8002 - acc: 0.7462\n",
      "Epoch 160/200\n",
      "1395/1395 [==============================] - 0s 224us/step - loss: 0.8009 - acc: 0.7513\n",
      "Epoch 161/200\n",
      "1395/1395 [==============================] - 0s 235us/step - loss: 0.7992 - acc: 0.7498\n",
      "Epoch 162/200\n"
     ]
    },
    {
     "name": "stdout",
     "output_type": "stream",
     "text": [
      "1395/1395 [==============================] - 0s 256us/step - loss: 0.8020 - acc: 0.7484\n",
      "Epoch 163/200\n",
      "1395/1395 [==============================] - 0s 255us/step - loss: 0.8046 - acc: 0.7513\n",
      "Epoch 164/200\n",
      "1395/1395 [==============================] - 0s 255us/step - loss: 0.7969 - acc: 0.7470\n",
      "Epoch 165/200\n",
      "1395/1395 [==============================] - 0s 254us/step - loss: 0.7956 - acc: 0.7484\n",
      "Epoch 166/200\n",
      "1395/1395 [==============================] - 0s 265us/step - loss: 0.8021 - acc: 0.7470\n",
      "Epoch 167/200\n",
      "1395/1395 [==============================] - 0s 254us/step - loss: 0.7956 - acc: 0.7477\n",
      "Epoch 168/200\n",
      "1395/1395 [==============================] - 0s 247us/step - loss: 0.7880 - acc: 0.7477\n",
      "Epoch 169/200\n",
      "1395/1395 [==============================] - 0s 261us/step - loss: 0.7897 - acc: 0.7505\n",
      "Epoch 170/200\n",
      "1395/1395 [==============================] - 0s 253us/step - loss: 0.7852 - acc: 0.7498\n",
      "Epoch 171/200\n",
      "1395/1395 [==============================] - 0s 240us/step - loss: 0.7910 - acc: 0.7484\n",
      "Epoch 172/200\n",
      "1395/1395 [==============================] - 0s 269us/step - loss: 0.7930 - acc: 0.7448\n",
      "Epoch 173/200\n",
      "1395/1395 [==============================] - 0s 285us/step - loss: 0.7914 - acc: 0.7513\n",
      "Epoch 174/200\n",
      "1395/1395 [==============================] - 0s 265us/step - loss: 0.8047 - acc: 0.7520\n",
      "Epoch 175/200\n",
      "1395/1395 [==============================] - 0s 267us/step - loss: 0.7848 - acc: 0.7520\n",
      "Epoch 176/200\n",
      "1395/1395 [==============================] - 0s 258us/step - loss: 0.7999 - acc: 0.7462\n",
      "Epoch 177/200\n",
      "1395/1395 [==============================] - 0s 263us/step - loss: 0.7856 - acc: 0.7527\n",
      "Epoch 178/200\n",
      "1395/1395 [==============================] - 0s 299us/step - loss: 0.8038 - acc: 0.7477\n",
      "Epoch 179/200\n",
      "1395/1395 [==============================] - 0s 262us/step - loss: 0.7915 - acc: 0.7462\n",
      "Epoch 180/200\n",
      "1395/1395 [==============================] - 0s 233us/step - loss: 0.7918 - acc: 0.7491\n",
      "Epoch 181/200\n",
      "1395/1395 [==============================] - 0s 240us/step - loss: 0.7755 - acc: 0.7534\n",
      "Epoch 182/200\n",
      "1395/1395 [==============================] - 0s 268us/step - loss: 0.7844 - acc: 0.7505\n",
      "Epoch 183/200\n",
      "1395/1395 [==============================] - 0s 265us/step - loss: 0.7834 - acc: 0.7484\n",
      "Epoch 184/200\n",
      "1395/1395 [==============================] - 0s 257us/step - loss: 0.7777 - acc: 0.7527\n",
      "Epoch 185/200\n",
      "1395/1395 [==============================] - 0s 268us/step - loss: 0.7836 - acc: 0.7477\n",
      "Epoch 186/200\n",
      "1395/1395 [==============================] - 0s 262us/step - loss: 0.7733 - acc: 0.7534\n",
      "Epoch 187/200\n",
      "1395/1395 [==============================] - 0s 259us/step - loss: 0.7720 - acc: 0.7520\n",
      "Epoch 188/200\n",
      "1395/1395 [==============================] - 0s 244us/step - loss: 0.8454 - acc: 0.7369\n",
      "Epoch 189/200\n",
      "1395/1395 [==============================] - 0s 294us/step - loss: 0.7921 - acc: 0.7498\n",
      "Epoch 190/200\n",
      "1395/1395 [==============================] - 0s 240us/step - loss: 0.7827 - acc: 0.7505\n",
      "Epoch 191/200\n",
      "1395/1395 [==============================] - 0s 257us/step - loss: 0.8315 - acc: 0.7341\n",
      "Epoch 192/200\n",
      "1395/1395 [==============================] - 0s 266us/step - loss: 0.8136 - acc: 0.7434\n",
      "Epoch 193/200\n",
      "1395/1395 [==============================] - 0s 264us/step - loss: 0.8035 - acc: 0.7419\n",
      "Epoch 194/200\n",
      "1395/1395 [==============================] - 0s 267us/step - loss: 0.7859 - acc: 0.7462\n",
      "Epoch 195/200\n",
      "1395/1395 [==============================] - 0s 267us/step - loss: 0.7782 - acc: 0.7520\n",
      "Epoch 196/200\n",
      "1395/1395 [==============================] - 0s 262us/step - loss: 0.7897 - acc: 0.7513\n",
      "Epoch 197/200\n",
      "1395/1395 [==============================] - 0s 262us/step - loss: 0.7836 - acc: 0.7484\n",
      "Epoch 198/200\n",
      "1395/1395 [==============================] - 0s 259us/step - loss: 0.7700 - acc: 0.7527\n",
      "Epoch 199/200\n",
      "1395/1395 [==============================] - 0s 260us/step - loss: 0.7643 - acc: 0.7548\n",
      "Epoch 200/200\n",
      "1395/1395 [==============================] - 0s 267us/step - loss: 0.7694 - acc: 0.7520\n"
     ]
    }
   ],
   "source": [
    "hist = modelRNN.fit(X_train, y_train)"
   ]
  },
  {
   "cell_type": "code",
   "execution_count": 96,
   "metadata": {},
   "outputs": [
    {
     "name": "stdout",
     "output_type": "stream",
     "text": [
      "599/599 [==============================] - 0s 522us/step\n"
     ]
    }
   ],
   "source": [
    "y_pred = modelRNN.predict(X_test)"
   ]
  },
  {
   "cell_type": "code",
   "execution_count": 97,
   "metadata": {},
   "outputs": [],
   "source": [
    "y_test_ = np.argmax(y_test, axis = 1)"
   ]
  },
  {
   "cell_type": "code",
   "execution_count": 98,
   "metadata": {},
   "outputs": [
    {
     "name": "stdout",
     "output_type": "stream",
     "text": [
      "0.7562604340567612\n"
     ]
    }
   ],
   "source": [
    "print(accuracy_score(y_pred, y_test_))"
   ]
  },
  {
   "cell_type": "markdown",
   "metadata": {},
   "source": [
    "## Explanation of the codes \n",
    "\n",
    "\n",
    "1. Feed Forward Network \n",
    "    - We Initialize the model for Feed Forward Network\n",
    "    - We then add one hidden layer equal to the input size of the image since this is a FF.\n",
    "    - The hidden layer is given an activation function of rectified linear unit ReLU.\n",
    "    - We use softmax layer since this is a multiclass classification of identyfing the numbers.\n",
    "    - We compile using Rmsprop which deals with vanishing gradients with accuracy as the metric and loss function which is cross-entropy for categorical variables.\n",
    "    - We train the model using fit command with batch size = 256 and total iterations = 20\n",
    "    - We perform validation on the results.\n",
    "    \n",
    "    Repeat the above experiment using dropout layers\n",
    "    - We add a dropout layer to drop out some of the weights carried to the next hidden layer to provide regularization and to avoid the model overfitting the data\n",
    "    \n",
    "    \n",
    "2. Deep Feed Forward Network\n",
    "    - We Initialize the model for Deep Forward Network\n",
    "    - We then add one hidden layer equal to the input size of the image since this is a FF.\n",
    "    - We again add one more dense hidden layer and an activation function of rectified linear unit ReLU.\n",
    "    - The hidden layer is given an activation function of rectified linear unit ReLU.\n",
    "    - We use softmax layer since this is a multiclass classification of identyfing the numbers.\n",
    "    - We compile using Rmsprop which deals with vanishing gradients with accuracy as the metric and loss function which is cross-entropy for categorical variables.\n",
    "    - We train the model using fit command with batch size = 256 and total iterations = 20\n",
    "    - We perform validation on the results.\n",
    "    \n",
    "    Repeat the above experiment using dropout layers\n",
    "    - We add a dropout layer to drop out some of the weights carried to the next hidden layer to provide regularization and to avoid the model overfitting the data\n",
    "    \n",
    "    \n",
    "3. Recurrent Neural Network\n",
    "    - We Initialize the model for Feed Forward Network\n",
    "    - We then add Simple RNN with softmax as the activation function with a dense layer of 46 connections.\n",
    "    - We compile using adam optimizer which acts pretty much simlilar to Stochastic Gradient Descent with accuracy as the metric and loss function which is cross-entropy for categorical variables.\n",
    "    - We train the model using fit command with batch size = 200 and total iterations = 50\n",
    "    - We perform validation on the results."
   ]
  },
  {
   "cell_type": "markdown",
   "metadata": {},
   "source": [
    "# IV - Results\n",
    "\n",
    "We have successfully implemented Feed Forward, Deep Feed Forward and Recurrent Neural Network on data. It is interesting to observe the accuracy of all the models after training. I expected huge difference in result of Feed Forward and Deep Feed Forward but change in accuracy is observed only in initial epochs and as model continues to train, accuracies are almost identical."
   ]
  },
  {
   "cell_type": "markdown",
   "metadata": {},
   "source": [
    "## Explanation of the choice for 3 different neural network structures and reason for the selection.\n",
    "\n",
    "1. We choose RNN model to observe changes w.r.t time.\n",
    "2. Since RNN inherently uses RNN i wanted to try out a dataset to see how that works since classical linear methods can be difficult to adapt to multivariate or multiple input forecasting problems.\n",
    "3. Since our second dataset about reuters which is a news reporting agency consist of prediction based on time, we can do some kind of forecasting using simple RNN model\n",
    "4. The idea of RNN is completely useful when we want to predict the lookahead predictions.\n",
    "5. So using RNN we will try to identify the closest post the current post may be related to.\n",
    "\n",
    "Model Selection and why I chose what I did.\n",
    "\n",
    "Feed Forward  and Deep Feed Forward Netwrok.\n",
    "1. For Feed forward Neural Network we took a completely fully connected layer of hidden layer.\n",
    "2. We added a ReLU unit for it because it has the ability to catch non linearites in gradient's thus not allowing any gradient to make the model skewed.\n",
    "3. We used Rmsprop because it has the ability to deal with vanishing gradients.\n",
    "4. loss function which is cross-entropy for categorical variables.\n",
    "5. We also use dropout layers to test if the accuracy increases by dropping some of the gradients and not over fitting the model.\n",
    "6. For DFF we add extra layers of hidden layers and increase the total number of neurons to make it a fully connected DNN.\n",
    "7. Feed Forward and Deep Feed Forward were chosen to observe the difference in performance with different number of hidden layer. Deep Feed Forward NN forms a basis of most Neural networks present today and I wanted to learn the diffrence between DFF and FF."
   ]
  },
  {
   "cell_type": "markdown",
   "metadata": {},
   "source": [
    "# Conclusions\n",
    "\n",
    "This assignment gave me a chance to get familiar with Keras and Tensorflow which is important as they are widely used commercially. I learned about different neural network which were not implemented in this assignment too and their implementation through Keras."
   ]
  },
  {
   "cell_type": "markdown",
   "metadata": {},
   "source": [
    "# Extra Credit\n",
    "\n",
    "**Implementing LSTM on to real data.** "
   ]
  },
  {
   "cell_type": "code",
   "execution_count": 67,
   "metadata": {},
   "outputs": [],
   "source": [
    "from math import sqrt\n",
    "from numpy import concatenate\n",
    "from matplotlib import pyplot\n",
    "from pandas import read_csv\n",
    "from pandas import DataFrame\n",
    "from pandas import concat\n",
    "from sklearn.preprocessing import MinMaxScaler\n",
    "from sklearn.preprocessing import LabelEncoder\n",
    "from sklearn.metrics import mean_squared_error\n",
    "from keras.models import Sequential\n",
    "from keras.layers import Dense\n",
    "from keras.layers import LSTM"
   ]
  },
  {
   "cell_type": "markdown",
   "metadata": {},
   "source": [
    "## Read the Data\n",
    "\n",
    "The dataset used reports on the weather and the level of pollution each hour for five years at the US embassy in Beijing, China.\n",
    "\n",
    "The data includes the date-time, the pollution called PM2.5 concentration, and the weather information including dew point, temperature, pressure, wind direction, wind speed and the cumulative number of hours of snow and rain. "
   ]
  },
  {
   "cell_type": "code",
   "execution_count": 68,
   "metadata": {},
   "outputs": [],
   "source": [
    "# convert series to supervised learning\n",
    "def series_to_supervised(data, n_in=1, n_out=1, dropnan=True):\n",
    "\tn_vars = 1 if type(data) is list else data.shape[1]\n",
    "\tdf = DataFrame(data)\n",
    "\tcols, names = list(), list()\n",
    "\t# input sequence (t-n, ... t-1)\n",
    "\tfor i in range(n_in, 0, -1):\n",
    "\t\tcols.append(df.shift(i))\n",
    "\t\tnames += [('var%d(t-%d)' % (j+1, i)) for j in range(n_vars)]\n",
    "\t# forecast sequence (t, t+1, ... t+n)\n",
    "\tfor i in range(0, n_out):\n",
    "\t\tcols.append(df.shift(-i))\n",
    "\t\tif i == 0:\n",
    "\t\t\tnames += [('var%d(t)' % (j+1)) for j in range(n_vars)]\n",
    "\t\telse:\n",
    "\t\t\tnames += [('var%d(t+%d)' % (j+1, i)) for j in range(n_vars)]\n",
    "\t# put it all together\n",
    "\tagg = concat(cols, axis=1)\n",
    "\tagg.columns = names\n",
    "\t# drop rows with NaN values\n",
    "\tif dropnan:\n",
    "\t\tagg.dropna(inplace=True)\n",
    "\treturn agg"
   ]
  },
  {
   "cell_type": "code",
   "execution_count": 69,
   "metadata": {},
   "outputs": [],
   "source": [
    "from pandas import read_csv\n",
    "from matplotlib import pyplot\n",
    "# load dataset\n",
    "dataset = read_csv('pollution.csv', header=0, index_col=0)\n",
    "dataset = dataset.drop(dataset.columns[[8]], axis=1) \n",
    "values = dataset.values"
   ]
  },
  {
   "cell_type": "markdown",
   "metadata": {},
   "source": [
    "## Prepare the data"
   ]
  },
  {
   "cell_type": "code",
   "execution_count": 70,
   "metadata": {},
   "outputs": [
    {
     "name": "stdout",
     "output_type": "stream",
     "text": [
      "   var1(t-1)  var2(t-1)  var3(t-1)  var4(t-1)  var5(t-1)  var6(t-1)  \\\n",
      "1        0.0        0.0        0.0   0.000000   1.000000   0.279412   \n",
      "2        0.0        0.0        0.0   0.043478   0.294295   0.279412   \n",
      "3        0.0        0.0        0.0   0.086957   0.293918   0.279412   \n",
      "4        0.0        0.0        0.0   0.130435   0.279940   0.279412   \n",
      "5        0.0        0.0        0.0   0.173913   0.279562   0.294118   \n",
      "\n",
      "   var7(t-1)  var8(t-1)  var9(t-1)   var6(t)   var7(t)   var8(t)   var9(t)  \\\n",
      "1   0.131148   0.545454   0.002290  0.279412  0.114754  0.527273  0.007639   \n",
      "2   0.114754   0.527273   0.007639  0.279412  0.131148  0.509090  0.010698   \n",
      "3   0.131148   0.509090   0.010698  0.279412  0.081967  0.509090  0.016047   \n",
      "4   0.081967   0.509090   0.016047  0.294118  0.114754  0.490910  0.021396   \n",
      "5   0.114754   0.490910   0.021396  0.308824  0.147541  0.472727  0.026745   \n",
      "\n",
      "   var10(t)  var11(t)  \n",
      "1       0.0       0.0  \n",
      "2       0.0       0.0  \n",
      "3       0.0       0.0  \n",
      "4       0.0       0.0  \n",
      "5       0.0       0.0  \n"
     ]
    }
   ],
   "source": [
    "# integer encode direction\n",
    "encoder = LabelEncoder()\n",
    "values[:,4] = encoder.fit_transform(values[:,4])\n",
    "# ensure all data is float\n",
    "values = values.astype('float32')\n",
    "# normalize features\n",
    "scaler = MinMaxScaler(feature_range=(0, 1))\n",
    "scaled = scaler.fit_transform(values)\n",
    "# frame as supervised learning\n",
    "reframed = series_to_supervised(scaled, 1, 1)\n",
    "# drop columns we don't want to predict\n",
    "reframed.drop(reframed.columns[[9,10,11,12,13,14,15]], axis=1, inplace=True)\n",
    "print(reframed.head())"
   ]
  },
  {
   "cell_type": "markdown",
   "metadata": {},
   "source": [
    "## Plot observation"
   ]
  },
  {
   "cell_type": "code",
   "execution_count": 71,
   "metadata": {},
   "outputs": [
    {
     "data": {
      "image/png": "[encoded data removed]",
      "text/plain": [
       "<Figure size 1296x576 with 7 Axes>"
      ]
     },
     "metadata": {
      "needs_background": "light"
     },
     "output_type": "display_data"
    }
   ],
   "source": [
    "# specify columns to plot\n",
    "groups = [0, 1, 2, 3, 5, 6, 7]\n",
    "i = 1\n",
    "# plot each column\n",
    "pyplot.figure(figsize=(18,8))\n",
    "for group in groups:\n",
    "\tpyplot.subplot(len(groups), 1, i)\n",
    "\tpyplot.plot(values[:, group])\n",
    "\tpyplot.title(dataset.columns[group], y=0.5, loc='right')\n",
    "\ti += 1\n",
    "pyplot.show()"
   ]
  },
  {
   "cell_type": "code",
   "execution_count": 72,
   "metadata": {},
   "outputs": [
    {
     "data": {
      "text/html": [
       "<div>\n",
       "<style scoped>\n",
       "    .dataframe tbody tr th:only-of-type {\n",
       "        vertical-align: middle;\n",
       "    }\n",
       "\n",
       "    .dataframe tbody tr th {\n",
       "        vertical-align: top;\n",
       "    }\n",
       "\n",
       "    .dataframe thead th {\n",
       "        text-align: right;\n",
       "    }\n",
       "</style>\n",
       "<table border=\"1\" class=\"dataframe\">\n",
       "  <thead>\n",
       "    <tr style=\"text-align: right;\">\n",
       "      <th></th>\n",
       "      <th>year</th>\n",
       "      <th>month</th>\n",
       "      <th>day</th>\n",
       "      <th>hour</th>\n",
       "      <th>pm2.5</th>\n",
       "      <th>DEWP</th>\n",
       "      <th>TEMP</th>\n",
       "      <th>PRES</th>\n",
       "      <th>Iws</th>\n",
       "      <th>Is</th>\n",
       "      <th>Ir</th>\n",
       "    </tr>\n",
       "    <tr>\n",
       "      <th>No</th>\n",
       "      <th></th>\n",
       "      <th></th>\n",
       "      <th></th>\n",
       "      <th></th>\n",
       "      <th></th>\n",
       "      <th></th>\n",
       "      <th></th>\n",
       "      <th></th>\n",
       "      <th></th>\n",
       "      <th></th>\n",
       "      <th></th>\n",
       "    </tr>\n",
       "  </thead>\n",
       "  <tbody>\n",
       "    <tr>\n",
       "      <th>1</th>\n",
       "      <td>2010</td>\n",
       "      <td>1</td>\n",
       "      <td>1</td>\n",
       "      <td>0</td>\n",
       "      <td>NaN</td>\n",
       "      <td>-21</td>\n",
       "      <td>-11.0</td>\n",
       "      <td>1021.0</td>\n",
       "      <td>1.79</td>\n",
       "      <td>0</td>\n",
       "      <td>0</td>\n",
       "    </tr>\n",
       "    <tr>\n",
       "      <th>2</th>\n",
       "      <td>2010</td>\n",
       "      <td>1</td>\n",
       "      <td>1</td>\n",
       "      <td>1</td>\n",
       "      <td>NaN</td>\n",
       "      <td>-21</td>\n",
       "      <td>-12.0</td>\n",
       "      <td>1020.0</td>\n",
       "      <td>4.92</td>\n",
       "      <td>0</td>\n",
       "      <td>0</td>\n",
       "    </tr>\n",
       "    <tr>\n",
       "      <th>3</th>\n",
       "      <td>2010</td>\n",
       "      <td>1</td>\n",
       "      <td>1</td>\n",
       "      <td>2</td>\n",
       "      <td>NaN</td>\n",
       "      <td>-21</td>\n",
       "      <td>-11.0</td>\n",
       "      <td>1019.0</td>\n",
       "      <td>6.71</td>\n",
       "      <td>0</td>\n",
       "      <td>0</td>\n",
       "    </tr>\n",
       "    <tr>\n",
       "      <th>4</th>\n",
       "      <td>2010</td>\n",
       "      <td>1</td>\n",
       "      <td>1</td>\n",
       "      <td>3</td>\n",
       "      <td>NaN</td>\n",
       "      <td>-21</td>\n",
       "      <td>-14.0</td>\n",
       "      <td>1019.0</td>\n",
       "      <td>9.84</td>\n",
       "      <td>0</td>\n",
       "      <td>0</td>\n",
       "    </tr>\n",
       "    <tr>\n",
       "      <th>5</th>\n",
       "      <td>2010</td>\n",
       "      <td>1</td>\n",
       "      <td>1</td>\n",
       "      <td>4</td>\n",
       "      <td>NaN</td>\n",
       "      <td>-20</td>\n",
       "      <td>-12.0</td>\n",
       "      <td>1018.0</td>\n",
       "      <td>12.97</td>\n",
       "      <td>0</td>\n",
       "      <td>0</td>\n",
       "    </tr>\n",
       "    <tr>\n",
       "      <th>6</th>\n",
       "      <td>2010</td>\n",
       "      <td>1</td>\n",
       "      <td>1</td>\n",
       "      <td>5</td>\n",
       "      <td>NaN</td>\n",
       "      <td>-19</td>\n",
       "      <td>-10.0</td>\n",
       "      <td>1017.0</td>\n",
       "      <td>16.10</td>\n",
       "      <td>0</td>\n",
       "      <td>0</td>\n",
       "    </tr>\n",
       "    <tr>\n",
       "      <th>7</th>\n",
       "      <td>2010</td>\n",
       "      <td>1</td>\n",
       "      <td>1</td>\n",
       "      <td>6</td>\n",
       "      <td>NaN</td>\n",
       "      <td>-19</td>\n",
       "      <td>-9.0</td>\n",
       "      <td>1017.0</td>\n",
       "      <td>19.23</td>\n",
       "      <td>0</td>\n",
       "      <td>0</td>\n",
       "    </tr>\n",
       "    <tr>\n",
       "      <th>8</th>\n",
       "      <td>2010</td>\n",
       "      <td>1</td>\n",
       "      <td>1</td>\n",
       "      <td>7</td>\n",
       "      <td>NaN</td>\n",
       "      <td>-19</td>\n",
       "      <td>-9.0</td>\n",
       "      <td>1017.0</td>\n",
       "      <td>21.02</td>\n",
       "      <td>0</td>\n",
       "      <td>0</td>\n",
       "    </tr>\n",
       "    <tr>\n",
       "      <th>9</th>\n",
       "      <td>2010</td>\n",
       "      <td>1</td>\n",
       "      <td>1</td>\n",
       "      <td>8</td>\n",
       "      <td>NaN</td>\n",
       "      <td>-19</td>\n",
       "      <td>-9.0</td>\n",
       "      <td>1017.0</td>\n",
       "      <td>24.15</td>\n",
       "      <td>0</td>\n",
       "      <td>0</td>\n",
       "    </tr>\n",
       "    <tr>\n",
       "      <th>10</th>\n",
       "      <td>2010</td>\n",
       "      <td>1</td>\n",
       "      <td>1</td>\n",
       "      <td>9</td>\n",
       "      <td>NaN</td>\n",
       "      <td>-20</td>\n",
       "      <td>-8.0</td>\n",
       "      <td>1017.0</td>\n",
       "      <td>27.28</td>\n",
       "      <td>0</td>\n",
       "      <td>0</td>\n",
       "    </tr>\n",
       "    <tr>\n",
       "      <th>11</th>\n",
       "      <td>2010</td>\n",
       "      <td>1</td>\n",
       "      <td>1</td>\n",
       "      <td>10</td>\n",
       "      <td>NaN</td>\n",
       "      <td>-19</td>\n",
       "      <td>-7.0</td>\n",
       "      <td>1017.0</td>\n",
       "      <td>31.30</td>\n",
       "      <td>0</td>\n",
       "      <td>0</td>\n",
       "    </tr>\n",
       "    <tr>\n",
       "      <th>12</th>\n",
       "      <td>2010</td>\n",
       "      <td>1</td>\n",
       "      <td>1</td>\n",
       "      <td>11</td>\n",
       "      <td>NaN</td>\n",
       "      <td>-18</td>\n",
       "      <td>-5.0</td>\n",
       "      <td>1017.0</td>\n",
       "      <td>34.43</td>\n",
       "      <td>0</td>\n",
       "      <td>0</td>\n",
       "    </tr>\n",
       "    <tr>\n",
       "      <th>13</th>\n",
       "      <td>2010</td>\n",
       "      <td>1</td>\n",
       "      <td>1</td>\n",
       "      <td>12</td>\n",
       "      <td>NaN</td>\n",
       "      <td>-19</td>\n",
       "      <td>-5.0</td>\n",
       "      <td>1015.0</td>\n",
       "      <td>37.56</td>\n",
       "      <td>0</td>\n",
       "      <td>0</td>\n",
       "    </tr>\n",
       "    <tr>\n",
       "      <th>14</th>\n",
       "      <td>2010</td>\n",
       "      <td>1</td>\n",
       "      <td>1</td>\n",
       "      <td>13</td>\n",
       "      <td>NaN</td>\n",
       "      <td>-18</td>\n",
       "      <td>-3.0</td>\n",
       "      <td>1015.0</td>\n",
       "      <td>40.69</td>\n",
       "      <td>0</td>\n",
       "      <td>0</td>\n",
       "    </tr>\n",
       "    <tr>\n",
       "      <th>15</th>\n",
       "      <td>2010</td>\n",
       "      <td>1</td>\n",
       "      <td>1</td>\n",
       "      <td>14</td>\n",
       "      <td>NaN</td>\n",
       "      <td>-18</td>\n",
       "      <td>-2.0</td>\n",
       "      <td>1014.0</td>\n",
       "      <td>43.82</td>\n",
       "      <td>0</td>\n",
       "      <td>0</td>\n",
       "    </tr>\n",
       "    <tr>\n",
       "      <th>16</th>\n",
       "      <td>2010</td>\n",
       "      <td>1</td>\n",
       "      <td>1</td>\n",
       "      <td>15</td>\n",
       "      <td>NaN</td>\n",
       "      <td>-18</td>\n",
       "      <td>-1.0</td>\n",
       "      <td>1014.0</td>\n",
       "      <td>0.89</td>\n",
       "      <td>0</td>\n",
       "      <td>0</td>\n",
       "    </tr>\n",
       "    <tr>\n",
       "      <th>17</th>\n",
       "      <td>2010</td>\n",
       "      <td>1</td>\n",
       "      <td>1</td>\n",
       "      <td>16</td>\n",
       "      <td>NaN</td>\n",
       "      <td>-19</td>\n",
       "      <td>-2.0</td>\n",
       "      <td>1015.0</td>\n",
       "      <td>1.79</td>\n",
       "      <td>0</td>\n",
       "      <td>0</td>\n",
       "    </tr>\n",
       "    <tr>\n",
       "      <th>18</th>\n",
       "      <td>2010</td>\n",
       "      <td>1</td>\n",
       "      <td>1</td>\n",
       "      <td>17</td>\n",
       "      <td>NaN</td>\n",
       "      <td>-18</td>\n",
       "      <td>-3.0</td>\n",
       "      <td>1015.0</td>\n",
       "      <td>2.68</td>\n",
       "      <td>0</td>\n",
       "      <td>0</td>\n",
       "    </tr>\n",
       "    <tr>\n",
       "      <th>19</th>\n",
       "      <td>2010</td>\n",
       "      <td>1</td>\n",
       "      <td>1</td>\n",
       "      <td>18</td>\n",
       "      <td>NaN</td>\n",
       "      <td>-18</td>\n",
       "      <td>-5.0</td>\n",
       "      <td>1016.0</td>\n",
       "      <td>1.79</td>\n",
       "      <td>0</td>\n",
       "      <td>0</td>\n",
       "    </tr>\n",
       "    <tr>\n",
       "      <th>20</th>\n",
       "      <td>2010</td>\n",
       "      <td>1</td>\n",
       "      <td>1</td>\n",
       "      <td>19</td>\n",
       "      <td>NaN</td>\n",
       "      <td>-17</td>\n",
       "      <td>-4.0</td>\n",
       "      <td>1017.0</td>\n",
       "      <td>1.79</td>\n",
       "      <td>0</td>\n",
       "      <td>0</td>\n",
       "    </tr>\n",
       "    <tr>\n",
       "      <th>21</th>\n",
       "      <td>2010</td>\n",
       "      <td>1</td>\n",
       "      <td>1</td>\n",
       "      <td>20</td>\n",
       "      <td>NaN</td>\n",
       "      <td>-17</td>\n",
       "      <td>-5.0</td>\n",
       "      <td>1017.0</td>\n",
       "      <td>0.89</td>\n",
       "      <td>0</td>\n",
       "      <td>0</td>\n",
       "    </tr>\n",
       "    <tr>\n",
       "      <th>22</th>\n",
       "      <td>2010</td>\n",
       "      <td>1</td>\n",
       "      <td>1</td>\n",
       "      <td>21</td>\n",
       "      <td>NaN</td>\n",
       "      <td>-17</td>\n",
       "      <td>-5.0</td>\n",
       "      <td>1018.0</td>\n",
       "      <td>1.79</td>\n",
       "      <td>0</td>\n",
       "      <td>0</td>\n",
       "    </tr>\n",
       "    <tr>\n",
       "      <th>23</th>\n",
       "      <td>2010</td>\n",
       "      <td>1</td>\n",
       "      <td>1</td>\n",
       "      <td>22</td>\n",
       "      <td>NaN</td>\n",
       "      <td>-17</td>\n",
       "      <td>-5.0</td>\n",
       "      <td>1018.0</td>\n",
       "      <td>2.68</td>\n",
       "      <td>0</td>\n",
       "      <td>0</td>\n",
       "    </tr>\n",
       "    <tr>\n",
       "      <th>24</th>\n",
       "      <td>2010</td>\n",
       "      <td>1</td>\n",
       "      <td>1</td>\n",
       "      <td>23</td>\n",
       "      <td>NaN</td>\n",
       "      <td>-17</td>\n",
       "      <td>-5.0</td>\n",
       "      <td>1020.0</td>\n",
       "      <td>0.89</td>\n",
       "      <td>0</td>\n",
       "      <td>0</td>\n",
       "    </tr>\n",
       "    <tr>\n",
       "      <th>25</th>\n",
       "      <td>2010</td>\n",
       "      <td>1</td>\n",
       "      <td>2</td>\n",
       "      <td>0</td>\n",
       "      <td>129.0</td>\n",
       "      <td>-16</td>\n",
       "      <td>-4.0</td>\n",
       "      <td>1020.0</td>\n",
       "      <td>1.79</td>\n",
       "      <td>0</td>\n",
       "      <td>0</td>\n",
       "    </tr>\n",
       "    <tr>\n",
       "      <th>26</th>\n",
       "      <td>2010</td>\n",
       "      <td>1</td>\n",
       "      <td>2</td>\n",
       "      <td>1</td>\n",
       "      <td>148.0</td>\n",
       "      <td>-15</td>\n",
       "      <td>-4.0</td>\n",
       "      <td>1020.0</td>\n",
       "      <td>2.68</td>\n",
       "      <td>0</td>\n",
       "      <td>0</td>\n",
       "    </tr>\n",
       "    <tr>\n",
       "      <th>27</th>\n",
       "      <td>2010</td>\n",
       "      <td>1</td>\n",
       "      <td>2</td>\n",
       "      <td>2</td>\n",
       "      <td>159.0</td>\n",
       "      <td>-11</td>\n",
       "      <td>-5.0</td>\n",
       "      <td>1021.0</td>\n",
       "      <td>3.57</td>\n",
       "      <td>0</td>\n",
       "      <td>0</td>\n",
       "    </tr>\n",
       "    <tr>\n",
       "      <th>28</th>\n",
       "      <td>2010</td>\n",
       "      <td>1</td>\n",
       "      <td>2</td>\n",
       "      <td>3</td>\n",
       "      <td>181.0</td>\n",
       "      <td>-7</td>\n",
       "      <td>-5.0</td>\n",
       "      <td>1022.0</td>\n",
       "      <td>5.36</td>\n",
       "      <td>1</td>\n",
       "      <td>0</td>\n",
       "    </tr>\n",
       "    <tr>\n",
       "      <th>29</th>\n",
       "      <td>2010</td>\n",
       "      <td>1</td>\n",
       "      <td>2</td>\n",
       "      <td>4</td>\n",
       "      <td>138.0</td>\n",
       "      <td>-7</td>\n",
       "      <td>-5.0</td>\n",
       "      <td>1022.0</td>\n",
       "      <td>6.25</td>\n",
       "      <td>2</td>\n",
       "      <td>0</td>\n",
       "    </tr>\n",
       "    <tr>\n",
       "      <th>30</th>\n",
       "      <td>2010</td>\n",
       "      <td>1</td>\n",
       "      <td>2</td>\n",
       "      <td>5</td>\n",
       "      <td>109.0</td>\n",
       "      <td>-7</td>\n",
       "      <td>-6.0</td>\n",
       "      <td>1022.0</td>\n",
       "      <td>7.14</td>\n",
       "      <td>3</td>\n",
       "      <td>0</td>\n",
       "    </tr>\n",
       "    <tr>\n",
       "      <th>...</th>\n",
       "      <td>...</td>\n",
       "      <td>...</td>\n",
       "      <td>...</td>\n",
       "      <td>...</td>\n",
       "      <td>...</td>\n",
       "      <td>...</td>\n",
       "      <td>...</td>\n",
       "      <td>...</td>\n",
       "      <td>...</td>\n",
       "      <td>...</td>\n",
       "      <td>...</td>\n",
       "    </tr>\n",
       "    <tr>\n",
       "      <th>43795</th>\n",
       "      <td>2014</td>\n",
       "      <td>12</td>\n",
       "      <td>30</td>\n",
       "      <td>18</td>\n",
       "      <td>79.0</td>\n",
       "      <td>-13</td>\n",
       "      <td>2.0</td>\n",
       "      <td>1020.0</td>\n",
       "      <td>3.58</td>\n",
       "      <td>0</td>\n",
       "      <td>0</td>\n",
       "    </tr>\n",
       "    <tr>\n",
       "      <th>43796</th>\n",
       "      <td>2014</td>\n",
       "      <td>12</td>\n",
       "      <td>30</td>\n",
       "      <td>19</td>\n",
       "      <td>35.0</td>\n",
       "      <td>-8</td>\n",
       "      <td>6.0</td>\n",
       "      <td>1021.0</td>\n",
       "      <td>5.81</td>\n",
       "      <td>0</td>\n",
       "      <td>0</td>\n",
       "    </tr>\n",
       "    <tr>\n",
       "      <th>43797</th>\n",
       "      <td>2014</td>\n",
       "      <td>12</td>\n",
       "      <td>30</td>\n",
       "      <td>20</td>\n",
       "      <td>26.0</td>\n",
       "      <td>-11</td>\n",
       "      <td>5.0</td>\n",
       "      <td>1022.0</td>\n",
       "      <td>12.96</td>\n",
       "      <td>0</td>\n",
       "      <td>0</td>\n",
       "    </tr>\n",
       "    <tr>\n",
       "      <th>43798</th>\n",
       "      <td>2014</td>\n",
       "      <td>12</td>\n",
       "      <td>30</td>\n",
       "      <td>21</td>\n",
       "      <td>20.0</td>\n",
       "      <td>-12</td>\n",
       "      <td>4.0</td>\n",
       "      <td>1023.0</td>\n",
       "      <td>21.90</td>\n",
       "      <td>0</td>\n",
       "      <td>0</td>\n",
       "    </tr>\n",
       "    <tr>\n",
       "      <th>43799</th>\n",
       "      <td>2014</td>\n",
       "      <td>12</td>\n",
       "      <td>30</td>\n",
       "      <td>22</td>\n",
       "      <td>8.0</td>\n",
       "      <td>-21</td>\n",
       "      <td>2.0</td>\n",
       "      <td>1025.0</td>\n",
       "      <td>31.73</td>\n",
       "      <td>0</td>\n",
       "      <td>0</td>\n",
       "    </tr>\n",
       "    <tr>\n",
       "      <th>43800</th>\n",
       "      <td>2014</td>\n",
       "      <td>12</td>\n",
       "      <td>30</td>\n",
       "      <td>23</td>\n",
       "      <td>16.0</td>\n",
       "      <td>-22</td>\n",
       "      <td>0.0</td>\n",
       "      <td>1026.0</td>\n",
       "      <td>38.88</td>\n",
       "      <td>0</td>\n",
       "      <td>0</td>\n",
       "    </tr>\n",
       "    <tr>\n",
       "      <th>43801</th>\n",
       "      <td>2014</td>\n",
       "      <td>12</td>\n",
       "      <td>31</td>\n",
       "      <td>0</td>\n",
       "      <td>10.0</td>\n",
       "      <td>-19</td>\n",
       "      <td>-1.0</td>\n",
       "      <td>1027.0</td>\n",
       "      <td>51.84</td>\n",
       "      <td>0</td>\n",
       "      <td>0</td>\n",
       "    </tr>\n",
       "    <tr>\n",
       "      <th>43802</th>\n",
       "      <td>2014</td>\n",
       "      <td>12</td>\n",
       "      <td>31</td>\n",
       "      <td>1</td>\n",
       "      <td>11.0</td>\n",
       "      <td>-18</td>\n",
       "      <td>-1.0</td>\n",
       "      <td>1028.0</td>\n",
       "      <td>61.67</td>\n",
       "      <td>0</td>\n",
       "      <td>0</td>\n",
       "    </tr>\n",
       "    <tr>\n",
       "      <th>43803</th>\n",
       "      <td>2014</td>\n",
       "      <td>12</td>\n",
       "      <td>31</td>\n",
       "      <td>2</td>\n",
       "      <td>20.0</td>\n",
       "      <td>-17</td>\n",
       "      <td>-1.0</td>\n",
       "      <td>1028.0</td>\n",
       "      <td>70.61</td>\n",
       "      <td>0</td>\n",
       "      <td>0</td>\n",
       "    </tr>\n",
       "    <tr>\n",
       "      <th>43804</th>\n",
       "      <td>2014</td>\n",
       "      <td>12</td>\n",
       "      <td>31</td>\n",
       "      <td>3</td>\n",
       "      <td>9.0</td>\n",
       "      <td>-17</td>\n",
       "      <td>-1.0</td>\n",
       "      <td>1029.0</td>\n",
       "      <td>81.79</td>\n",
       "      <td>0</td>\n",
       "      <td>0</td>\n",
       "    </tr>\n",
       "    <tr>\n",
       "      <th>43805</th>\n",
       "      <td>2014</td>\n",
       "      <td>12</td>\n",
       "      <td>31</td>\n",
       "      <td>4</td>\n",
       "      <td>8.0</td>\n",
       "      <td>-19</td>\n",
       "      <td>-2.0</td>\n",
       "      <td>1030.0</td>\n",
       "      <td>94.75</td>\n",
       "      <td>0</td>\n",
       "      <td>0</td>\n",
       "    </tr>\n",
       "    <tr>\n",
       "      <th>43806</th>\n",
       "      <td>2014</td>\n",
       "      <td>12</td>\n",
       "      <td>31</td>\n",
       "      <td>5</td>\n",
       "      <td>9.0</td>\n",
       "      <td>-21</td>\n",
       "      <td>-3.0</td>\n",
       "      <td>1030.0</td>\n",
       "      <td>109.95</td>\n",
       "      <td>0</td>\n",
       "      <td>0</td>\n",
       "    </tr>\n",
       "    <tr>\n",
       "      <th>43807</th>\n",
       "      <td>2014</td>\n",
       "      <td>12</td>\n",
       "      <td>31</td>\n",
       "      <td>6</td>\n",
       "      <td>8.0</td>\n",
       "      <td>-23</td>\n",
       "      <td>-4.0</td>\n",
       "      <td>1032.0</td>\n",
       "      <td>130.07</td>\n",
       "      <td>0</td>\n",
       "      <td>0</td>\n",
       "    </tr>\n",
       "    <tr>\n",
       "      <th>43808</th>\n",
       "      <td>2014</td>\n",
       "      <td>12</td>\n",
       "      <td>31</td>\n",
       "      <td>7</td>\n",
       "      <td>8.0</td>\n",
       "      <td>-22</td>\n",
       "      <td>-5.0</td>\n",
       "      <td>1034.0</td>\n",
       "      <td>143.03</td>\n",
       "      <td>0</td>\n",
       "      <td>0</td>\n",
       "    </tr>\n",
       "    <tr>\n",
       "      <th>43809</th>\n",
       "      <td>2014</td>\n",
       "      <td>12</td>\n",
       "      <td>31</td>\n",
       "      <td>8</td>\n",
       "      <td>8.0</td>\n",
       "      <td>-22</td>\n",
       "      <td>-5.0</td>\n",
       "      <td>1034.0</td>\n",
       "      <td>150.18</td>\n",
       "      <td>0</td>\n",
       "      <td>0</td>\n",
       "    </tr>\n",
       "    <tr>\n",
       "      <th>43810</th>\n",
       "      <td>2014</td>\n",
       "      <td>12</td>\n",
       "      <td>31</td>\n",
       "      <td>9</td>\n",
       "      <td>8.0</td>\n",
       "      <td>-22</td>\n",
       "      <td>-3.0</td>\n",
       "      <td>1034.0</td>\n",
       "      <td>155.99</td>\n",
       "      <td>0</td>\n",
       "      <td>0</td>\n",
       "    </tr>\n",
       "    <tr>\n",
       "      <th>43811</th>\n",
       "      <td>2014</td>\n",
       "      <td>12</td>\n",
       "      <td>31</td>\n",
       "      <td>10</td>\n",
       "      <td>7.0</td>\n",
       "      <td>-22</td>\n",
       "      <td>-2.0</td>\n",
       "      <td>1034.0</td>\n",
       "      <td>163.14</td>\n",
       "      <td>0</td>\n",
       "      <td>0</td>\n",
       "    </tr>\n",
       "    <tr>\n",
       "      <th>43812</th>\n",
       "      <td>2014</td>\n",
       "      <td>12</td>\n",
       "      <td>31</td>\n",
       "      <td>11</td>\n",
       "      <td>12.0</td>\n",
       "      <td>-22</td>\n",
       "      <td>-2.0</td>\n",
       "      <td>1034.0</td>\n",
       "      <td>170.29</td>\n",
       "      <td>0</td>\n",
       "      <td>0</td>\n",
       "    </tr>\n",
       "    <tr>\n",
       "      <th>43813</th>\n",
       "      <td>2014</td>\n",
       "      <td>12</td>\n",
       "      <td>31</td>\n",
       "      <td>12</td>\n",
       "      <td>17.0</td>\n",
       "      <td>-22</td>\n",
       "      <td>0.0</td>\n",
       "      <td>1033.0</td>\n",
       "      <td>177.44</td>\n",
       "      <td>0</td>\n",
       "      <td>0</td>\n",
       "    </tr>\n",
       "    <tr>\n",
       "      <th>43814</th>\n",
       "      <td>2014</td>\n",
       "      <td>12</td>\n",
       "      <td>31</td>\n",
       "      <td>13</td>\n",
       "      <td>11.0</td>\n",
       "      <td>-27</td>\n",
       "      <td>0.0</td>\n",
       "      <td>1032.0</td>\n",
       "      <td>186.38</td>\n",
       "      <td>0</td>\n",
       "      <td>0</td>\n",
       "    </tr>\n",
       "    <tr>\n",
       "      <th>43815</th>\n",
       "      <td>2014</td>\n",
       "      <td>12</td>\n",
       "      <td>31</td>\n",
       "      <td>14</td>\n",
       "      <td>9.0</td>\n",
       "      <td>-27</td>\n",
       "      <td>1.0</td>\n",
       "      <td>1032.0</td>\n",
       "      <td>196.21</td>\n",
       "      <td>0</td>\n",
       "      <td>0</td>\n",
       "    </tr>\n",
       "    <tr>\n",
       "      <th>43816</th>\n",
       "      <td>2014</td>\n",
       "      <td>12</td>\n",
       "      <td>31</td>\n",
       "      <td>15</td>\n",
       "      <td>11.0</td>\n",
       "      <td>-26</td>\n",
       "      <td>1.0</td>\n",
       "      <td>1032.0</td>\n",
       "      <td>205.15</td>\n",
       "      <td>0</td>\n",
       "      <td>0</td>\n",
       "    </tr>\n",
       "    <tr>\n",
       "      <th>43817</th>\n",
       "      <td>2014</td>\n",
       "      <td>12</td>\n",
       "      <td>31</td>\n",
       "      <td>16</td>\n",
       "      <td>8.0</td>\n",
       "      <td>-23</td>\n",
       "      <td>0.0</td>\n",
       "      <td>1032.0</td>\n",
       "      <td>214.09</td>\n",
       "      <td>0</td>\n",
       "      <td>0</td>\n",
       "    </tr>\n",
       "    <tr>\n",
       "      <th>43818</th>\n",
       "      <td>2014</td>\n",
       "      <td>12</td>\n",
       "      <td>31</td>\n",
       "      <td>17</td>\n",
       "      <td>9.0</td>\n",
       "      <td>-22</td>\n",
       "      <td>-1.0</td>\n",
       "      <td>1033.0</td>\n",
       "      <td>221.24</td>\n",
       "      <td>0</td>\n",
       "      <td>0</td>\n",
       "    </tr>\n",
       "    <tr>\n",
       "      <th>43819</th>\n",
       "      <td>2014</td>\n",
       "      <td>12</td>\n",
       "      <td>31</td>\n",
       "      <td>18</td>\n",
       "      <td>10.0</td>\n",
       "      <td>-22</td>\n",
       "      <td>-2.0</td>\n",
       "      <td>1033.0</td>\n",
       "      <td>226.16</td>\n",
       "      <td>0</td>\n",
       "      <td>0</td>\n",
       "    </tr>\n",
       "    <tr>\n",
       "      <th>43820</th>\n",
       "      <td>2014</td>\n",
       "      <td>12</td>\n",
       "      <td>31</td>\n",
       "      <td>19</td>\n",
       "      <td>8.0</td>\n",
       "      <td>-23</td>\n",
       "      <td>-2.0</td>\n",
       "      <td>1034.0</td>\n",
       "      <td>231.97</td>\n",
       "      <td>0</td>\n",
       "      <td>0</td>\n",
       "    </tr>\n",
       "    <tr>\n",
       "      <th>43821</th>\n",
       "      <td>2014</td>\n",
       "      <td>12</td>\n",
       "      <td>31</td>\n",
       "      <td>20</td>\n",
       "      <td>10.0</td>\n",
       "      <td>-22</td>\n",
       "      <td>-3.0</td>\n",
       "      <td>1034.0</td>\n",
       "      <td>237.78</td>\n",
       "      <td>0</td>\n",
       "      <td>0</td>\n",
       "    </tr>\n",
       "    <tr>\n",
       "      <th>43822</th>\n",
       "      <td>2014</td>\n",
       "      <td>12</td>\n",
       "      <td>31</td>\n",
       "      <td>21</td>\n",
       "      <td>10.0</td>\n",
       "      <td>-22</td>\n",
       "      <td>-3.0</td>\n",
       "      <td>1034.0</td>\n",
       "      <td>242.70</td>\n",
       "      <td>0</td>\n",
       "      <td>0</td>\n",
       "    </tr>\n",
       "    <tr>\n",
       "      <th>43823</th>\n",
       "      <td>2014</td>\n",
       "      <td>12</td>\n",
       "      <td>31</td>\n",
       "      <td>22</td>\n",
       "      <td>8.0</td>\n",
       "      <td>-22</td>\n",
       "      <td>-4.0</td>\n",
       "      <td>1034.0</td>\n",
       "      <td>246.72</td>\n",
       "      <td>0</td>\n",
       "      <td>0</td>\n",
       "    </tr>\n",
       "    <tr>\n",
       "      <th>43824</th>\n",
       "      <td>2014</td>\n",
       "      <td>12</td>\n",
       "      <td>31</td>\n",
       "      <td>23</td>\n",
       "      <td>12.0</td>\n",
       "      <td>-21</td>\n",
       "      <td>-3.0</td>\n",
       "      <td>1034.0</td>\n",
       "      <td>249.85</td>\n",
       "      <td>0</td>\n",
       "      <td>0</td>\n",
       "    </tr>\n",
       "  </tbody>\n",
       "</table>\n",
       "<p>43824 rows × 11 columns</p>\n",
       "</div>"
      ],
      "text/plain": [
       "       year  month  day  hour  pm2.5  DEWP  TEMP    PRES     Iws  Is  Ir\n",
       "No                                                                      \n",
       "1      2010      1    1     0    NaN   -21 -11.0  1021.0    1.79   0   0\n",
       "2      2010      1    1     1    NaN   -21 -12.0  1020.0    4.92   0   0\n",
       "3      2010      1    1     2    NaN   -21 -11.0  1019.0    6.71   0   0\n",
       "4      2010      1    1     3    NaN   -21 -14.0  1019.0    9.84   0   0\n",
       "5      2010      1    1     4    NaN   -20 -12.0  1018.0   12.97   0   0\n",
       "6      2010      1    1     5    NaN   -19 -10.0  1017.0   16.10   0   0\n",
       "7      2010      1    1     6    NaN   -19  -9.0  1017.0   19.23   0   0\n",
       "8      2010      1    1     7    NaN   -19  -9.0  1017.0   21.02   0   0\n",
       "9      2010      1    1     8    NaN   -19  -9.0  1017.0   24.15   0   0\n",
       "10     2010      1    1     9    NaN   -20  -8.0  1017.0   27.28   0   0\n",
       "11     2010      1    1    10    NaN   -19  -7.0  1017.0   31.30   0   0\n",
       "12     2010      1    1    11    NaN   -18  -5.0  1017.0   34.43   0   0\n",
       "13     2010      1    1    12    NaN   -19  -5.0  1015.0   37.56   0   0\n",
       "14     2010      1    1    13    NaN   -18  -3.0  1015.0   40.69   0   0\n",
       "15     2010      1    1    14    NaN   -18  -2.0  1014.0   43.82   0   0\n",
       "16     2010      1    1    15    NaN   -18  -1.0  1014.0    0.89   0   0\n",
       "17     2010      1    1    16    NaN   -19  -2.0  1015.0    1.79   0   0\n",
       "18     2010      1    1    17    NaN   -18  -3.0  1015.0    2.68   0   0\n",
       "19     2010      1    1    18    NaN   -18  -5.0  1016.0    1.79   0   0\n",
       "20     2010      1    1    19    NaN   -17  -4.0  1017.0    1.79   0   0\n",
       "21     2010      1    1    20    NaN   -17  -5.0  1017.0    0.89   0   0\n",
       "22     2010      1    1    21    NaN   -17  -5.0  1018.0    1.79   0   0\n",
       "23     2010      1    1    22    NaN   -17  -5.0  1018.0    2.68   0   0\n",
       "24     2010      1    1    23    NaN   -17  -5.0  1020.0    0.89   0   0\n",
       "25     2010      1    2     0  129.0   -16  -4.0  1020.0    1.79   0   0\n",
       "26     2010      1    2     1  148.0   -15  -4.0  1020.0    2.68   0   0\n",
       "27     2010      1    2     2  159.0   -11  -5.0  1021.0    3.57   0   0\n",
       "28     2010      1    2     3  181.0    -7  -5.0  1022.0    5.36   1   0\n",
       "29     2010      1    2     4  138.0    -7  -5.0  1022.0    6.25   2   0\n",
       "30     2010      1    2     5  109.0    -7  -6.0  1022.0    7.14   3   0\n",
       "...     ...    ...  ...   ...    ...   ...   ...     ...     ...  ..  ..\n",
       "43795  2014     12   30    18   79.0   -13   2.0  1020.0    3.58   0   0\n",
       "43796  2014     12   30    19   35.0    -8   6.0  1021.0    5.81   0   0\n",
       "43797  2014     12   30    20   26.0   -11   5.0  1022.0   12.96   0   0\n",
       "43798  2014     12   30    21   20.0   -12   4.0  1023.0   21.90   0   0\n",
       "43799  2014     12   30    22    8.0   -21   2.0  1025.0   31.73   0   0\n",
       "43800  2014     12   30    23   16.0   -22   0.0  1026.0   38.88   0   0\n",
       "43801  2014     12   31     0   10.0   -19  -1.0  1027.0   51.84   0   0\n",
       "43802  2014     12   31     1   11.0   -18  -1.0  1028.0   61.67   0   0\n",
       "43803  2014     12   31     2   20.0   -17  -1.0  1028.0   70.61   0   0\n",
       "43804  2014     12   31     3    9.0   -17  -1.0  1029.0   81.79   0   0\n",
       "43805  2014     12   31     4    8.0   -19  -2.0  1030.0   94.75   0   0\n",
       "43806  2014     12   31     5    9.0   -21  -3.0  1030.0  109.95   0   0\n",
       "43807  2014     12   31     6    8.0   -23  -4.0  1032.0  130.07   0   0\n",
       "43808  2014     12   31     7    8.0   -22  -5.0  1034.0  143.03   0   0\n",
       "43809  2014     12   31     8    8.0   -22  -5.0  1034.0  150.18   0   0\n",
       "43810  2014     12   31     9    8.0   -22  -3.0  1034.0  155.99   0   0\n",
       "43811  2014     12   31    10    7.0   -22  -2.0  1034.0  163.14   0   0\n",
       "43812  2014     12   31    11   12.0   -22  -2.0  1034.0  170.29   0   0\n",
       "43813  2014     12   31    12   17.0   -22   0.0  1033.0  177.44   0   0\n",
       "43814  2014     12   31    13   11.0   -27   0.0  1032.0  186.38   0   0\n",
       "43815  2014     12   31    14    9.0   -27   1.0  1032.0  196.21   0   0\n",
       "43816  2014     12   31    15   11.0   -26   1.0  1032.0  205.15   0   0\n",
       "43817  2014     12   31    16    8.0   -23   0.0  1032.0  214.09   0   0\n",
       "43818  2014     12   31    17    9.0   -22  -1.0  1033.0  221.24   0   0\n",
       "43819  2014     12   31    18   10.0   -22  -2.0  1033.0  226.16   0   0\n",
       "43820  2014     12   31    19    8.0   -23  -2.0  1034.0  231.97   0   0\n",
       "43821  2014     12   31    20   10.0   -22  -3.0  1034.0  237.78   0   0\n",
       "43822  2014     12   31    21   10.0   -22  -3.0  1034.0  242.70   0   0\n",
       "43823  2014     12   31    22    8.0   -22  -4.0  1034.0  246.72   0   0\n",
       "43824  2014     12   31    23   12.0   -21  -3.0  1034.0  249.85   0   0\n",
       "\n",
       "[43824 rows x 11 columns]"
      ]
     },
     "execution_count": 72,
     "metadata": {},
     "output_type": "execute_result"
    }
   ],
   "source": [
    "dataset"
   ]
  },
  {
   "cell_type": "markdown",
   "metadata": {},
   "source": [
    "### Split the data"
   ]
  },
  {
   "cell_type": "code",
   "execution_count": 73,
   "metadata": {},
   "outputs": [
    {
     "name": "stdout",
     "output_type": "stream",
     "text": [
      "(8760, 1, 14) (8760,) (35063, 1, 14) (35063,)\n"
     ]
    }
   ],
   "source": [
    "# split into train and test sets\n",
    "values = reframed.values\n",
    "n_train_hours = 365 * 24\n",
    "train = values[:n_train_hours, :]\n",
    "test = values[n_train_hours:, :]\n",
    "# split into input and outputs\n",
    "train_X, train_y = train[:, :-1], train[:, -1]\n",
    "test_X, test_y = test[:, :-1], test[:, -1]\n",
    "# reshape input to be 3D [samples, timesteps, features]\n",
    "train_X = train_X.reshape((train_X.shape[0], 1, train_X.shape[1]))\n",
    "test_X = test_X.reshape((test_X.shape[0], 1, test_X.shape[1]))\n",
    "print(train_X.shape, train_y.shape, test_X.shape, test_y.shape)"
   ]
  },
  {
   "cell_type": "code",
   "execution_count": 74,
   "metadata": {},
   "outputs": [
    {
     "data": {
      "text/plain": [
       "(8760, 15)"
      ]
     },
     "execution_count": 74,
     "metadata": {},
     "output_type": "execute_result"
    }
   ],
   "source": [
    "train.shape"
   ]
  },
  {
   "cell_type": "markdown",
   "metadata": {},
   "source": [
    "## LSTM MODEL"
   ]
  },
  {
   "cell_type": "code",
   "execution_count": 76,
   "metadata": {},
   "outputs": [
    {
     "name": "stdout",
     "output_type": "stream",
     "text": [
      "Train on 8760 samples, validate on 35063 samples\n",
      "Epoch 1/50\n",
      " - 2s - loss: 0.0145 - acc: 0.9493 - val_loss: 0.0113 - val_acc: 0.9611\n",
      "Epoch 2/50\n",
      " - 1s - loss: 0.0129 - acc: 0.9493 - val_loss: 0.0119 - val_acc: 0.9611\n",
      "Epoch 3/50\n",
      " - 1s - loss: 0.0100 - acc: 0.9493 - val_loss: 0.0259 - val_acc: 0.9611\n",
      "Epoch 4/50\n",
      " - 1s - loss: 0.0113 - acc: 0.9493 - val_loss: 0.0223 - val_acc: 0.9611\n",
      "Epoch 5/50\n",
      " - 1s - loss: 0.0104 - acc: 0.9493 - val_loss: 0.0196 - val_acc: 0.9611\n",
      "Epoch 6/50\n",
      " - 1s - loss: 0.0105 - acc: 0.9493 - val_loss: 0.0163 - val_acc: 0.9611\n",
      "Epoch 7/50\n",
      " - 1s - loss: 0.0109 - acc: 0.9493 - val_loss: 0.0158 - val_acc: 0.9611\n",
      "Epoch 8/50\n",
      " - 1s - loss: 0.0099 - acc: 0.9493 - val_loss: 0.0163 - val_acc: 0.9611\n",
      "Epoch 9/50\n",
      " - 1s - loss: 0.0106 - acc: 0.9493 - val_loss: 0.0239 - val_acc: 0.9611\n",
      "Epoch 10/50\n",
      " - 1s - loss: 0.0114 - acc: 0.9493 - val_loss: 0.0219 - val_acc: 0.9611\n",
      "Epoch 11/50\n",
      " - 1s - loss: 0.0110 - acc: 0.9493 - val_loss: 0.0139 - val_acc: 0.9611\n",
      "Epoch 12/50\n",
      " - 1s - loss: 0.0107 - acc: 0.9493 - val_loss: 0.0142 - val_acc: 0.9611\n",
      "Epoch 13/50\n",
      " - 1s - loss: 0.0095 - acc: 0.9493 - val_loss: 0.0130 - val_acc: 0.9611\n",
      "Epoch 14/50\n",
      " - 1s - loss: 0.0090 - acc: 0.9493 - val_loss: 0.0098 - val_acc: 0.9611\n",
      "Epoch 15/50\n",
      " - 1s - loss: 0.0098 - acc: 0.9493 - val_loss: 0.0096 - val_acc: 0.9611\n",
      "Epoch 16/50\n",
      " - 1s - loss: 0.0096 - acc: 0.9493 - val_loss: 0.0127 - val_acc: 0.9611\n",
      "Epoch 17/50\n",
      " - 1s - loss: 0.0103 - acc: 0.9493 - val_loss: 0.0142 - val_acc: 0.9611\n",
      "Epoch 18/50\n",
      " - 1s - loss: 0.0105 - acc: 0.9493 - val_loss: 0.0185 - val_acc: 0.9611\n",
      "Epoch 19/50\n",
      " - 1s - loss: 0.0091 - acc: 0.9493 - val_loss: 0.0110 - val_acc: 0.9611\n",
      "Epoch 20/50\n",
      " - 1s - loss: 0.0087 - acc: 0.9493 - val_loss: 0.0114 - val_acc: 0.9611\n",
      "Epoch 21/50\n",
      " - 1s - loss: 0.0099 - acc: 0.9493 - val_loss: 0.0127 - val_acc: 0.9611\n",
      "Epoch 22/50\n",
      " - 1s - loss: 0.0091 - acc: 0.9493 - val_loss: 0.0089 - val_acc: 0.9611\n",
      "Epoch 23/50\n",
      " - 1s - loss: 0.0097 - acc: 0.9493 - val_loss: 0.0114 - val_acc: 0.9611\n",
      "Epoch 24/50\n",
      " - 1s - loss: 0.0096 - acc: 0.9493 - val_loss: 0.0087 - val_acc: 0.9611\n",
      "Epoch 25/50\n",
      " - 1s - loss: 0.0108 - acc: 0.9493 - val_loss: 0.0104 - val_acc: 0.9611\n",
      "Epoch 26/50\n",
      " - 1s - loss: 0.0096 - acc: 0.9493 - val_loss: 0.0155 - val_acc: 0.9611\n",
      "Epoch 27/50\n",
      " - 1s - loss: 0.0100 - acc: 0.9493 - val_loss: 0.0172 - val_acc: 0.9611\n",
      "Epoch 28/50\n",
      " - 1s - loss: 0.0097 - acc: 0.9493 - val_loss: 0.0154 - val_acc: 0.9611\n",
      "Epoch 29/50\n",
      " - 1s - loss: 0.0100 - acc: 0.9493 - val_loss: 0.0112 - val_acc: 0.9611\n",
      "Epoch 30/50\n",
      " - 1s - loss: 0.0095 - acc: 0.9493 - val_loss: 0.0149 - val_acc: 0.9611\n",
      "Epoch 31/50\n",
      " - 1s - loss: 0.0094 - acc: 0.9493 - val_loss: 0.0127 - val_acc: 0.9611\n",
      "Epoch 32/50\n",
      " - 1s - loss: 0.0086 - acc: 0.9493 - val_loss: 0.0140 - val_acc: 0.9611\n",
      "Epoch 33/50\n",
      " - 1s - loss: 0.0084 - acc: 0.9493 - val_loss: 0.0180 - val_acc: 0.9611\n",
      "Epoch 34/50\n",
      " - 1s - loss: 0.0095 - acc: 0.9493 - val_loss: 0.0123 - val_acc: 0.9611\n",
      "Epoch 35/50\n",
      " - 1s - loss: 0.0089 - acc: 0.9493 - val_loss: 0.0120 - val_acc: 0.9611\n",
      "Epoch 36/50\n",
      " - 1s - loss: 0.0082 - acc: 0.9493 - val_loss: 0.0121 - val_acc: 0.9611\n",
      "Epoch 37/50\n",
      " - 1s - loss: 0.0087 - acc: 0.9493 - val_loss: 0.0129 - val_acc: 0.9611\n",
      "Epoch 38/50\n",
      " - 1s - loss: 0.0092 - acc: 0.9493 - val_loss: 0.0095 - val_acc: 0.9611\n",
      "Epoch 39/50\n",
      " - 1s - loss: 0.0089 - acc: 0.9493 - val_loss: 0.0133 - val_acc: 0.9611\n",
      "Epoch 40/50\n",
      " - 1s - loss: 0.0087 - acc: 0.9493 - val_loss: 0.0104 - val_acc: 0.9611\n",
      "Epoch 41/50\n",
      " - 1s - loss: 0.0091 - acc: 0.9493 - val_loss: 0.0179 - val_acc: 0.9611\n",
      "Epoch 42/50\n",
      " - 1s - loss: 0.0090 - acc: 0.9493 - val_loss: 0.0120 - val_acc: 0.9611\n",
      "Epoch 43/50\n",
      " - 1s - loss: 0.0083 - acc: 0.9493 - val_loss: 0.0105 - val_acc: 0.9611\n",
      "Epoch 44/50\n",
      " - 1s - loss: 0.0086 - acc: 0.9493 - val_loss: 0.0137 - val_acc: 0.9611\n",
      "Epoch 45/50\n",
      " - 1s - loss: 0.0085 - acc: 0.9493 - val_loss: 0.0099 - val_acc: 0.9611\n",
      "Epoch 46/50\n",
      " - 1s - loss: 0.0090 - acc: 0.9493 - val_loss: 0.0105 - val_acc: 0.9611\n",
      "Epoch 47/50\n",
      " - 1s - loss: 0.0087 - acc: 0.9493 - val_loss: 0.0158 - val_acc: 0.9611\n",
      "Epoch 48/50\n",
      " - 1s - loss: 0.0091 - acc: 0.9493 - val_loss: 0.0130 - val_acc: 0.9611\n",
      "Epoch 49/50\n",
      " - 1s - loss: 0.0085 - acc: 0.9493 - val_loss: 0.0100 - val_acc: 0.9611\n",
      "Epoch 50/50\n",
      " - 1s - loss: 0.0087 - acc: 0.9493 - val_loss: 0.0111 - val_acc: 0.9611\n"
     ]
    }
   ],
   "source": [
    "\n",
    "# design network\n",
    "modelLSTM = Sequential()\n",
    "modelLSTM.add(LSTM(50, input_shape=(train_X.shape[1], train_X.shape[2])))\n",
    "modelLSTM.add(Dense(1))\n",
    "modelLSTM.compile(loss='mae', optimizer='adam',metrics=['accuracy'])\n",
    "# fit network\n",
    "historyLSTM = modelLSTM.fit(train_X, train_y, epochs=50, batch_size=72, validation_data=(test_X, test_y), verbose=2, shuffle=False)\n",
    "\n"
   ]
  },
  {
   "cell_type": "markdown",
   "metadata": {},
   "source": [
    "## Visualization for results:"
   ]
  },
  {
   "cell_type": "markdown",
   "metadata": {},
   "source": [
    "## Evaluation of LSTM"
   ]
  },
  {
   "cell_type": "code",
   "execution_count": 77,
   "metadata": {},
   "outputs": [
    {
     "data": {
      "text/plain": [
       "Text(0.5, 1.0, 'Loss Curves')"
      ]
     },
     "execution_count": 77,
     "metadata": {},
     "output_type": "execute_result"
    },
    {
     "data": {
      "image/png": "[encoded data removed]",
      "text/plain": [
       "<Figure size 576x432 with 1 Axes>"
      ]
     },
     "metadata": {
      "needs_background": "light"
     },
     "output_type": "display_data"
    }
   ],
   "source": [
    "#Plot the Loss Curves\n",
    "plt.figure(figsize=[8,6])\n",
    "plt.plot(historyLSTM.history['loss'],'r',linewidth=3.0)\n",
    "plt.plot(historyLSTM.history['val_loss'],'b',linewidth=3.0)\n",
    "plt.legend(['Training loss', 'Validation Loss'],fontsize=18)\n",
    "plt.xlabel('Epochs ',fontsize=16)\n",
    "plt.ylabel('Loss',fontsize=16)\n",
    "plt.title('Loss Curves',fontsize=16)\n"
   ]
  },
  {
   "cell_type": "code",
   "execution_count": 78,
   "metadata": {
    "scrolled": true
   },
   "outputs": [
    {
     "data": {
      "text/plain": [
       "Text(0.5, 1.0, 'Accuracy Curves')"
      ]
     },
     "execution_count": 78,
     "metadata": {},
     "output_type": "execute_result"
    },
    {
     "data": {
      "image/png": "[encoded data removed]",
      "text/plain": [
       "<Figure size 576x432 with 1 Axes>"
      ]
     },
     "metadata": {
      "needs_background": "light"
     },
     "output_type": "display_data"
    }
   ],
   "source": [
    " \n",
    "#Plot the Accuracy Curves\n",
    "plt.figure(figsize=[8,6])\n",
    "plt.plot(historyLSTM.history['acc'],'r',linewidth=3.0)\n",
    "plt.plot(historyLSTM.history['val_acc'],'b',linewidth=3.0)\n",
    "plt.legend(['Training Accuracy', 'Validation Accuracy'],fontsize=18)\n",
    "plt.xlabel('Epochs ',fontsize=16)\n",
    "plt.ylabel('Accuracy',fontsize=16)\n",
    "plt.title('Accuracy Curves',fontsize=16)"
   ]
  }
 ],
 "metadata": {
  "kernelspec": {
   "display_name": "ML-assignment1",
   "language": "python",
   "name": "ml-assignment1"
  },
  "language_info": {
   "codemirror_mode": {
    "name": "ipython",
    "version": 3
   },
   "file_extension": ".py",
   "mimetype": "text/x-python",
   "name": "python",
   "nbconvert_exporter": "python",
   "pygments_lexer": "ipython3",
   "version": "3.6.5"
  }
 },
 "nbformat": 4,
 "nbformat_minor": 2
}
